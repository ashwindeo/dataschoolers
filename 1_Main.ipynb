{
 "cells": [
  {
   "cell_type": "markdown",
   "metadata": {},
   "source": [
    "<center> <h2> Predicting School District Performance</font></center><br>\n",
    "\n",
    "<center><b>The Data Schoolers</b><br>Ashwin Deo, Aasta Frascati-Robinson, Bhanu Kanna, Brendan Law</center>\n",
    "\n",
    "### Overview and Motivation\n",
    "What factors have an impact on school district performance?  We seek to learn if we can predict graduation rate based upon numerous school district characteristics.  We look to understand what factors have little or no impact on performance. We also strive to classify school districts by custom team-built peer school district grouping rather than solely geographical grouping by nation, state, and school district, which would include factors like total students, student/teacher ratio, percent of children in poverty, district type, location, etc.  We used the most current national graduation data found, which was for the school year 2009-2010.  We have kept the dataset years consistent across data sources.\n",
    "\n",
    "The goal of predicting school district performance based on school environment is to inform parents and interested citizens of what factors in school districts influence key success indicators such as graduation rate.  Identifying these factors would help school districts look at potential opportunities to improve.  This topic was selected because of a passion for using technology to enhance education and desire to give back to the education communities that have helped shape us.  One team member would love to work in educational data science in the future.\n",
    "\n",
    "Open education data is now being provided via several national, state, and local government portals.  It is often up to the end user to piece together datasets across these portals to answer their questions, which is not something that a typical parent or interested citizen has the time or expertise to pursue.  Instead, the data science community can support these users by melding these datasets and answering important education questions.\n",
    "\n",
    "### Related Work\n",
    "Dekker, Pechenizkiy, and Vleeshouwers built multiple models to predict Eindhoven University of Technology freshman dropout (2009, <i>Educational Data Mining</i>).  We referenced this work to identify what types of models might be applicable for interpreting education data."
   ]
  },
  {
   "cell_type": "markdown",
   "metadata": {},
   "source": [
    "##District Data Processbook (2_ProcessBookHiLoGradRate.ipynb)\n",
    "https://github.com/ashwindeo/dataschoolers/blob/master/2_ProcessBookHiLoGradRate.ipynb\n",
    "\n",
    "After rigorous cleaning of the data and creating indicators, we attempt a variety of classifiers to determine the best approach at prediting the graduation rate. We also use similar methods to find the dropout rate.\n",
    "\n"
   ]
  },
  {
   "cell_type": "markdown",
   "metadata": {},
   "source": [
    "##Regression Workbook (3_ProcessBookNumericalGradRate.ipynb)\n",
    "\n",
    "https://github.com/ashwindeo/dataschoolers/blob/master/3_ProcessBookNumericalGradRate.ipynb\n",
    "\n",
    "Based on feedback from our TF on 12/7, we attempted several forms of regression to see how well we could predict numerical graduation rate with school district characteristics alone, then with previous years graduation rates, then with school district characteristics and previous years graduation rates.\n",
    "\n",
    "One opportunity in this space is that the U.S. Department of Education typically delays making graduation rate data available.  For instance, it is the 2015-2016 school year, and the most current graduation rate data available is for the year 2009-2010.  If we could build a model to predict graduation rate for the years of missing data, organizations that rely on graduation rate data to provide schools services could use this graduation rate approximation until newer graduation rate data becomes available.\n",
    "\n",
    "For this notebook, we pulled 3 previous years of graduation rate data (2006-2007, 2007-2008, and 2008-2009).  First we built regression models using school district data alone and predicting numerical graduation rate, then we built regression models using historic graduation rate data alone and predicting numerical graduation rate, then we built regression models using school district data and historic graduation rate data and predicting numerical graduation rate, and lastly we built a regression model using 2006-2007 school district data and fed it new 2009-2010 school district data to see how well it would predict 2009-2010 numerical graduation rate.\n",
    "\n",
    "We compared the models using mean squared error, with the lower the mean squared error, the better.\n"
   ]
  },
  {
   "cell_type": "markdown",
   "metadata": {},
   "source": [
    "##SVM Feature Selected Classifiers (4_FinalSVMFeatureSelected.ipynb)\n",
    "\n",
    "https://github.com/ashwindeo/dataschoolers/blob/master/4_FinalSVMFeatureSelected.ipynb\n",
    "\n",
    "\n",
    "In order to enable visualizing factors that school districts could readily change versus would be more difficult to change, we needed two more runs of our best models - log with lasso without gender and ethnicity features for classifying high graduation and low graduation.\n"
   ]
  },
  {
   "cell_type": "markdown",
   "metadata": {},
   "source": [
    "##Visualization School Cleanup (5_VisualizationSchoolCleanupEDA.ipynb)\n",
    "\n",
    "https://github.com/ashwindeo/dataschoolers/blob/master/5_VisualizationSchoolCleanupEDA.ipynb\n",
    "\n",
    "This is the process book that covers how we loaded and cleaned the schools data for the year 2009-2010. We use the schools data in the visualization.\n",
    "\n",
    "We did not use the schools data in our models because graduation rate data is not available nationwide at the school level. We found invidual states or cities that made graduation rate data publically available, yet it would have been too time consuming to download from many different places. School level data is for data vizualization purpose.\n"
   ]
  },
  {
   "cell_type": "markdown",
   "metadata": {},
   "source": [
    "##Grouping Workbook (6_VisualizationSchoolGrouping.ipynb)\n",
    "\n",
    "https://github.com/ashwindeo/dataschoolers/blob/master/6_VisualizationSchoolGrouping.ipynb\n",
    "\n",
    "We wanted the ability to compare school districts based on similar school districts as well as by statewide. This notebook creates the groupings. The output files for these groupings were used in the Tableau visualization.\n",
    "<br><br>The columns for these groupings were chosen based on the New York State Education Department's definition of similar schools. Link: http://www.p12.nysed.gov/repcrd2004/information/similar-schools/guide.shtml\n"
   ]
  },
  {
   "cell_type": "markdown",
   "metadata": {},
   "source": [
    "##Generate data needed for visualization in Tableau (7_VisualizationTableauData.ipynb)\n",
    "\n",
    "https://github.com/ashwindeo/dataschoolers/blob/master/7_VisualizationTableauData.ipynb\n",
    "\n",
    "Cleaning up the data for the Tableau visualization. We removed the unused fields and fixed the field names."
   ]
  },
  {
   "cell_type": "markdown",
   "metadata": {},
   "source": [
    "#Overall Findings and Result"
   ]
  },
  {
   "cell_type": "code",
   "execution_count": null,
   "metadata": {
    "collapsed": true
   },
   "outputs": [],
   "source": []
  }
 ],
 "metadata": {
  "kernelspec": {
   "display_name": "Python 2",
   "language": "python",
   "name": "python2"
  },
  "language_info": {
   "codemirror_mode": {
    "name": "ipython",
    "version": 2
   },
   "file_extension": ".py",
   "mimetype": "text/x-python",
   "name": "python",
   "nbconvert_exporter": "python",
   "pygments_lexer": "ipython2",
   "version": "2.7.10"
  }
 },
 "nbformat": 4,
 "nbformat_minor": 0
}
