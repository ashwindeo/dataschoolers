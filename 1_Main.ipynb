{
 "cells": [
  {
   "cell_type": "markdown",
   "metadata": {},
   "source": [
    "# Predicting School District Performance\n",
    "The Data Schoolers - Ashwin Deo, Aasta Frascati-Robinson, Bhanu Kanna, Brendan Law\n",
    "\n",
    "### Overview and Motivation\n",
    "What factors have an impact on school district performance?  We seek to learn if we can predict graduation rate based upon numerous school district characteristics.  We look to understand what factors have little or no impact on performance. We also strive to classify school districts by custom team-built peer school district grouping rather than solely geographical grouping by nation, state, and school district, which would include factors like total students, student/teacher ratio, percent of children in poverty, district type, location, etc.  We used the most current national graduation data found, which was for the school year 2009-2010.  We have kept the dataset years consistent across data sources.\n",
    "\n",
    "The goal of predicting school district performance based on school environment is to inform parents and interested citizens of what factors in school districts influence key success indicators such as graduation rate.  Identifying these factors would help school districts look at potential opportunities to improve.  This topic was selected because of a passion for using technology to enhance education and desire to give back to the education communities that have helped shape us.  One team member would love to work in educational data science in the future.\n",
    "\n",
    "Open education data is now being provided via several national, state, and local government portals.  It is often up to the end user to piece together datasets across these portals to answer their questions, which is not something that a typical parent or interested citizen has the time or expertise to pursue.  Instead, the data science community can support these users by melding these datasets and answering important education questions.\n",
    "\n",
    "### Related Work\n",
    "Dekker, Pechenizkiy, and Vleeshouwers built multiple models to predict Eindhoven University of Technology freshman dropout (2009, <i>Educational Data Mining</i>).  We referenced this work to identify what types of models might be applicable for interpreting education data."
   ]
  },
  {
   "cell_type": "markdown",
   "metadata": {},
   "source": [
    "#Worbooks"
   ]
  },
  {
   "cell_type": "markdown",
   "metadata": {},
   "source": [
    "## Grouping Workbook\n",
    "\n",
    "We wanted the ability to compare school districts based on similar school districts as well as by statewide. This notebook creates the groupings. The output files for these groupings were used in the Tableau visualization.\n",
    "<br><br>The columns for these groupings were chosen based on the New York State Education Department's definition of similar schools. Link: http://www.p12.nysed.gov/repcrd2004/information/similar-schools/guide.shtml\n",
    "\n",
    "[Grouping](grouping.ipynb)"
   ]
  },
  {
   "cell_type": "markdown",
   "metadata": {},
   "source": [
    "##Lasso Workbook\n",
    "\n",
    "In order to enable visualizing factors that school districts could readily change versus would be more difficult to change, we needed two more runs of our best models - log with lasso without gender and ethnicity features for classifying high graduation and low graduation.\n",
    "\n",
    "* [Lasso Classifiers without gender/ethnicity](lastlasso.ipynb#Classifiers-without-gender/ethnicity)\n",
    "    * [1. High Graduation - No Gender/Ethnicity](lastlasso.ipynb#High-Graduation---No-Gender/Ethnicity)\n",
    "    * [2. Low Graduation - No Gender/Ethnicity](lastlasso.ipynb#Low-Graduation---No-Gender/Ethnicity)\n",
    "\n"
   ]
  },
  {
   "cell_type": "markdown",
   "metadata": {},
   "source": [
    "##Regression Workbook (numerical)\n",
    "\n",
    "Based on feedback from our TF on 12/7, we attempted several forms of regression to see how well we could predict numerical graduation rate with school district characteristics alone, then with previous years graduation rates, then with school district characteristics and previous years graduation rates.\n",
    "\n",
    "One opportunity in this space is that the U.S. Department of Education typically delays making graduation rate data available.  For instance, it is the 2015-2016 school year, and the most current graduation rate data available is for the year 2009-2010.  If we could build a model to predict graduation rate for the years of missing data, organizations that rely on graduation rate data to provide schools services could use this graduation rate approximation until newer graduation rate data becomes available.\n",
    "\n",
    "For this notebook, we pulled 3 previous years of graduation rate data (2006-2007, 2007-2008, and 2008-2009).  First we built regression models using school district data alone and predicting numerical graduation rate, then we built regression models using historic graduation rate data alone and predicting numerical graduation rate, then we built regression models using school district data and historic graduation rate data and predicting numerical graduation rate, and lastly we built a regression model using 2006-2007 school district data and fed it new 2009-2010 school district data to see how well it would predict 2009-2010 numerical graduation rate.\n",
    "\n",
    "We compared the models using mean squared error, with the lower the mean squared error, the better.\n",
    "\n",
    "* [1. Linear Regression](numerical.ipynb#Linear-Regression)\n",
    "* [2. Lasso Regression](numerical.ipynb#Lasso-Regression)\n",
    "* [3. Elastic Net Regression](numerical.ipynb#Elastic-Net-Regression)\n",
    "* [4. Predicting graduation based on previous year graduation](numerical.ipynb#Predicting-graduation-based-on-previous-year-graduation)\n",
    "    * [1. Linear Regression - 0607, 0708, and 0809](numerical.ipynb#Linear-Regression---0607,-0708,-and-0809)\n",
    "    * [2. Linear Regression - 0708 and 0809](numerical.ipynb#Linear-Regression---0708-and-0809)\n",
    "    * [3. Linear Regression - 0809 Only](numerical.ipynb#Linear-Regression---0809-Only)\n",
    "    * [4. Linear Regression - 0708 Only](numerical.ipynb#Linear-Regression---0708-Only)\n",
    "    * [5. Linear Regression - 0607 Only](numerical.ipynb#Linear-Regression---0607-Only)\n",
    "* [5. Predicting graduation based on previous year graduation and all other factors](numerical.ipynb#Predicting-graduation-based-on-previous-year-graduation-and-all-other-factors)\n",
    "    * [1. Linear Regression](numerical.ipynb#Linear-Regression)\n",
    "    * [2. Lasso Regression](numerical.ipynb#Lasso-Regression)\n",
    "    * [3. Elastic Net Regression](numerical.ipynb#Elastic-Net-Regression)\n",
    "    * [4. Creating a best model](numerical.ipynb#Creating-a-best-model)\n",
    "    * [5. Findings](numerical.ipynb#Findings)\n",
    "    * [6. Trying 2009-2010 predictions using 2006-2007 data](numerical.ipynb#Trying-2009-2010-predictions-using-2006-2007-data)\n",
    "        * [1. Linear Regression](numerical.ipynb#Linear-Regression)\n",
    "        * [2. Lasso Regression](numerical.ipynb#Lasso-Regression)\n",
    "        * [3. Elastic Net](numerical.ipynb#Elastic-Net)\n",
    "        * [4. Creating a best model](numerical.ipynb#Creating-a-best-model)\n",
    "        * [5. Predicting 2009-2010 graduation rate from 2006-2007 data.](numerical.ipynb#Predicting-2009-2010-graduation-rate-from-2006-2007-data.)\n"
   ]
  },
  {
   "cell_type": "markdown",
   "metadata": {},
   "source": [
    "##Additional Regression (numerical_part2)\n",
    "\n",
    "* [Numerical Part 2](numerical_part2.ipynb#Part-2)\n",
    "    * [1. Baseline Comparison :](numerical_part2.ipynb#Baseline-Comparison-:)\n",
    "    * [2. Building a Predictive model using the school districts dataset and previous years graduation rates.](numerical_part2.ipynb#Building-a-Predictive-model-using-the-school-districts-dataset-and-previous-years-graduation-rates.)\n",
    "    * [3. Building a model using School Districts](numerical_part2.ipynb#Building-a-model-using-School-Districts)\n"
   ]
  },
  {
   "cell_type": "markdown",
   "metadata": {},
   "source": [
    "##Previous Graduation Rate Analysis\n",
    "\n",
    "* [Previous Graduation analysis](previousgrad.ipynb)"
   ]
  },
  {
   "cell_type": "markdown",
   "metadata": {},
   "source": [
    "##School Data Processbook (processbook)\n",
    "\n",
    "This is the process book that covers how we loaded and cleaned the schools data for the year 2009-2010. We use the schools data in the visualization.\n",
    "\n",
    "We did not use the schools data in our models because graduation rate data is not available nationwide at the school level. We found invidual states or cities that made graduation rate data publically available, yet it would have been too time consuming to download from many different places.\n",
    "\n",
    "* [School Data Processbook](processbook.ipynb)"
   ]
  },
  {
   "cell_type": "markdown",
   "metadata": {},
   "source": [
    "##District Data Processbook (processbook_schooldistricts)\n",
    "\n",
    "After rigorous cleaning of the data and creating indicators, we attempt a variety of classifiers to determine the best approach at prediting the graduation rate. We also use similar methods to find the dropout rate.\n",
    "\n",
    "* [1. Processbook - School Districts](processbook_schooldistricts.ipynb#Processbook---School-Districts)\n",
    "* [2. Table Of Contents](processbook_schooldistricts.ipynb#Table-Of-Contents)\n",
    "* [3. Data Sources](processbook_schooldistricts.ipynb#Data-Sources)\n",
    "    * [1. Schools](processbook_schooldistricts.ipynb#Schools)\n",
    "    * [2. School Districts](processbook_schooldistricts.ipynb#School-Districts)\n",
    "        * [1. Data Loading](processbook_schooldistricts.ipynb#Data-Loading)\n",
    "        * [2. Data Cleaning](processbook_schooldistricts.ipynb#Data-Cleaning)\n",
    "        * [3. Data Derivation](processbook_schooldistricts.ipynb#Data-Derivation)\n",
    "        * [4. Data Filtering](processbook_schooldistricts.ipynb#Data-Filtering)\n",
    "        * [5. Feature Engineering](processbook_schooldistricts.ipynb#Feature-Engineering)\n",
    "        * [6. Test and Training Sets and Standardization](processbook_schooldistricts.ipynb#Test-and-Training-Sets-and-Standardization)\n",
    "    * [3. High Graduation Rate](processbook_schooldistricts.ipynb#High-Graduation-Rate)\n",
    "        * [1. Exploratory Data Analysis](processbook_schooldistricts.ipynb#Exploratory-Data-Analysis)\n",
    "        * [2. Writing Classifiers](processbook_schooldistricts.ipynb#Writing-Classifiers)\n",
    "            * [1. Linear SVM](processbook_schooldistricts.ipynb#Linear-SVM)\n",
    "            * [2. Log Regression](processbook_schooldistricts.ipynb#Log-Regression)\n",
    "            * [3. Feature Selection](processbook_schooldistricts.ipynb#Feature-Selection)\n",
    "            * [4. Kernalized SVM](processbook_schooldistricts.ipynb#Kernalized-SVM)\n",
    "            * [5. Decision Trees](processbook_schooldistricts.ipynb#Decision-Trees)\n",
    "            * [6. Random Forests](processbook_schooldistricts.ipynb#Random-Forests)\n",
    "            * [7. ADA Booster](processbook_schooldistricts.ipynb#ADA-Booster)\n",
    "            * [8. Gradient Boosting](processbook_schooldistricts.ipynb#Gradient-Boosting)\n",
    "            * [9. Decision Tree - No Gender or Ethnicity](processbook_schooldistricts.ipynb#Decision-Tree---No-Gender-or-Ethnicity)\n",
    "            * [10. Random Forests - No Gender/Ethnicity](processbook_schooldistricts.ipynb#Random-Forests---No-Gender/Ethnicity)\n",
    "            * [11. ADA Booster - No Gender/Ethnicity](processbook_schooldistricts.ipynb#ADA-Booster---No-Gender/Ethnicity)\n",
    "            * [12. Gradient Boosting - No Gender/Ethnicity](processbook_schooldistricts.ipynb#Gradient-Boosting---No-Gender/Ethnicity)\n",
    "            * [13. Final Comparison of All Models](processbook_schooldistricts.ipynb#Final-Comparison-of-All-Models)\n",
    "    * [4. Low Graduation](processbook_schooldistricts.ipynb#Low-Graduation)\n",
    "        * [1. Exploratory Data Analysis](processbook_schooldistricts.ipynb#Exploratory-Data-Analysis)\n",
    "        * [2. Writing Classifiers](processbook_schooldistricts.ipynb#Writing-Classifiers)\n",
    "            * [1. Linear SVM](processbook_schooldistricts.ipynb#Linear-SVM)\n",
    "            * [2. Log Regression](processbook_schooldistricts.ipynb#Log-Regression)\n",
    "            * [3. Feature Selection](processbook_schooldistricts.ipynb#Feature-Selection)\n",
    "            * [4. Kernalized SVM](processbook_schooldistricts.ipynb#Kernalized-SVM)\n",
    "            * [5. Decision Trees](processbook_schooldistricts.ipynb#Decision-Trees)\n",
    "            * [6. Random Forests](processbook_schooldistricts.ipynb#Random-Forests)\n",
    "            * [7. ADA Booster](processbook_schooldistricts.ipynb#ADA-Booster)\n",
    "            * [8. Gradient Boosting](processbook_schooldistricts.ipynb#Gradient-Boosting)\n",
    "            * [9. Decision Tree - No Gender or Ethnicity](processbook_schooldistricts.ipynb#Decision-Tree---No-Gender-or-Ethnicity)\n",
    "            * [10. Random Forests - No Gender/Ethnicity](processbook_schooldistricts.ipynb#Random-Forests---No-Gender/Ethnicity)\n",
    "            * [11. ADA Booster - No Gender/Ethnicity](processbook_schooldistricts.ipynb#ADA-Booster---No-Gender/Ethnicity)\n",
    "            * [12. Gradient Boosting - No Gender/Ethnicity](processbook_schooldistricts.ipynb#Gradient-Boosting---No-Gender/Ethnicity)\n",
    "            * [13. Final Comparison of All Models](processbook_schooldistricts.ipynb#Final-Comparison-of-All-Models)\n",
    "    * [5. Model of Numerical Graduation Rate](processbook_schooldistricts.ipynb#Model-of-Numerical-Graduation-Rate)\n"
   ]
  },
  {
   "cell_type": "markdown",
   "metadata": {},
   "source": [
    "##Visualization School Cleanup\n",
    "\n",
    "* [Visualization School Cleanup](visualizationSchoolCleanupEDA.ipynb)"
   ]
  },
  {
   "cell_type": "markdown",
   "metadata": {
    "collapsed": true
   },
   "source": [
    "## Visualization"
   ]
  },
  {
   "cell_type": "markdown",
   "metadata": {
    "collapsed": true
   },
   "source": [
    "### Grouping Creation\n",
    "We created our grouping information for Tableau visualization in a separate process book.\n",
    "\n",
    "We created custom groupings so that an end user could compare a school district nationally, to its state, and to similar schools, a custom grouping that we created.<br/>\n",
    "Link: <a href=\"https://github.com/ashwindeo/dataschoolers/blob/master/grouping.ipynb\">Grouping Process Book</a>\n",
    "\n",
    "### Tableau\n",
    "We built the visualization for our website in Tableau so an end user would have a rich, dynamic experience.\n",
    "\n",
    "Link: <a href=\"\">Visualization Link</a>"
   ]
  },
  {
   "cell_type": "markdown",
   "metadata": {
    "collapsed": true
   },
   "source": [
    "## Conclusion"
   ]
  }
 ],
 "metadata": {
  "kernelspec": {
   "display_name": "Python 2",
   "language": "python",
   "name": "python2"
  },
  "language_info": {
   "codemirror_mode": {
    "name": "ipython",
    "version": 2
   },
   "file_extension": ".py",
   "mimetype": "text/x-python",
   "name": "python",
   "nbconvert_exporter": "python",
   "pygments_lexer": "ipython2",
   "version": "2.7.10"
  }
 },
 "nbformat": 4,
 "nbformat_minor": 0
}
