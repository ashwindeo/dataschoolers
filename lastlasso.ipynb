{
 "cells": [
  {
   "cell_type": "code",
   "execution_count": 125,
   "metadata": {
    "collapsed": true
   },
   "outputs": [],
   "source": [
    "%matplotlib inline\n",
    "import numpy as np\n",
    "import scipy as sp\n",
    "import matplotlib as mpl\n",
    "import matplotlib.cm as cm\n",
    "import matplotlib.pyplot as plt\n",
    "import pandas as pd\n",
    "pd.set_option('display.width', 500)\n",
    "pd.set_option('display.max_columns', 100)\n",
    "pd.set_option('display.notebook_repr_html', True)\n",
    "import seaborn as sns\n",
    "sns.set_style(\"whitegrid\")\n",
    "sns.set_context(\"poster\")"
   ]
  },
  {
   "cell_type": "code",
   "execution_count": 154,
   "metadata": {
    "collapsed": true
   },
   "outputs": [],
   "source": [
    "dftouse=pd.read_csv(\"data/finaldata/dftouse.csv\")"
   ]
  },
  {
   "cell_type": "code",
   "execution_count": 155,
   "metadata": {
    "collapsed": false
   },
   "outputs": [
    {
     "name": "stdout",
     "output_type": "stream",
     "text": [
      "['num_students', 'num_schools', 'num_charter_schools', 'num_pub_schools', 'tcuresal_percent', 'pupil_teacher_ratio_dist', 'pupil_teacher_ratio_ps', 'totalrev_pp', 'tlocrev_pp', 'tsrev_pp', 'tfedrev_pp', 'tcurinst_pp', 'tcurssv_pp', 'tcuroth_pp', 'tcursalary_pp', 'tcurbenefits_pp', 'totalexp_pp', 'tcapout_pp', 'tnonelse_pp', 'tcurelsc_pp', 'instexp_pp', 'tcurinst_percent', 'tcuroth_percent', 'tcurelsc_percent', 'tcurssvc_percent', 'tfedrev_percent', 'tlocrev_percent', 'tsrev_percent', 'r_ELL', 'r_IEP', 'r_lunch_free', 'r_lunch_reduced', 'r_stud_PKK', 'r_stud_18', 'r_stud_912', 'r_st_PKT', 'r_st_KT', 'r_st_ET', 'r_st_ST', 'r_st_UT', 'r_st_TS', 'r_st_IA', 'r_st_IC', 'r_st_EGC', 'r_st_SGC', 'r_st_OGC', 'r_st_TGC', 'r_st_LMS', 'r_st_LMSS', 'r_st_LEA', 'r_st_LEASS', 'r_st_SA', 'r_st_SASS', 'r_st_SSSS', 'r_st_OSSS', 'r_lrev_pt', 'r_lrev_gst', 'r_lrev_put', 'r_lrev_it', 'r_lrev_aot', 'r_lrev_pgc', 'r_lrev_cc', 'r_lrev_oss', 'r_lrev_tui', 'r_lrev_trans', 'r_lrev_slr', 'r_lrev_ts', 'r_lrev_sar', 'r_lrev_osalserv', 'r_lrev_sfns', 'r_lrev_ie', 'r_lrev_molr', 'r_lrev_sp', 'r_lrev_rr', 'r_lrev_sale', 'r_lrev_ff', 'r_lrev_pc', 'r_srev_gfa', 'r_srev_sep', 'r_srev_trans', 'r_srev_sip', 'r_srev_cbsp', 'r_srev_vep', 'r_srev_codsp', 'r_srev_bep', 'r_srev_gt', 'r_srev_slp', 'r_srev_aor', 'r_srev_splea', 'r_srev_osp', 'r_srev_ns', 'r_frev_title1', 'r_frev_dis', 'r_frev_cna', 'r_frev_ems', 'r_frev_dfs', 'r_frev_voc', 'r_frev_ao', 'r_frev_ns', 'r_frev_ia', 'r_frev_be', 'r_frev_na', 'r_frev_aofed']\n"
     ]
    }
   ],
   "source": [
    "STANDARDIZABLE = ['num_students', 'num_schools','num_charter_schools','num_pub_schools','tcuresal_percent','pupil_teacher_ratio_dist', 'pupil_teacher_ratio_ps', 'totalrev_pp','tlocrev_pp','tsrev_pp','tfedrev_pp','tcurinst_pp','tcurssv_pp','tcuroth_pp','tcursalary_pp','tcurbenefits_pp','totalexp_pp','tcapout_pp','tnonelse_pp','tcurelsc_pp','instexp_pp','tcurinst_percent','tcuroth_percent','tcurelsc_percent','tcurssvc_percent','tfedrev_percent','tlocrev_percent','tsrev_percent','r_ELL','r_IEP','r_lunch_free','r_lunch_reduced','r_stud_PKK','r_stud_18','r_stud_912','r_st_PKT','r_st_KT','r_st_ET','r_st_ST','r_st_UT','r_st_TS','r_st_IA','r_st_IC','r_st_EGC','r_st_SGC','r_st_OGC','r_st_TGC','r_st_LMS','r_st_LMSS','r_st_LEA','r_st_LEASS','r_st_SA','r_st_SASS','r_st_SSSS','r_st_OSSS','r_lrev_pt','r_lrev_gst','r_lrev_put','r_lrev_it','r_lrev_aot','r_lrev_pgc','r_lrev_cc','r_lrev_oss','r_lrev_tui','r_lrev_trans','r_lrev_slr','r_lrev_ts','r_lrev_sar','r_lrev_osalserv','r_lrev_sfns','r_lrev_ie','r_lrev_molr','r_lrev_sp','r_lrev_rr','r_lrev_sale','r_lrev_ff','r_lrev_pc','r_srev_gfa','r_srev_sep','r_srev_trans','r_srev_sip','r_srev_cbsp','r_srev_vep','r_srev_codsp','r_srev_bep','r_srev_gt','r_srev_slp','r_srev_aor','r_srev_splea','r_srev_osp','r_srev_ns','r_frev_title1','r_frev_dis','r_frev_cna','r_frev_ems','r_frev_dfs','r_frev_voc','r_frev_ao','r_frev_ns','r_frev_ia','r_frev_be','r_frev_na','r_frev_aofed']\n",
    "print STANDARDIZABLE"
   ]
  },
  {
   "cell_type": "code",
   "execution_count": 156,
   "metadata": {
    "collapsed": false
   },
   "outputs": [
    {
     "name": "stdout",
     "output_type": "stream",
     "text": [
      "['i_agency_type_local_school_district', 'i_agency_type_local_school_district_sup_union', 'i_agency_type_regional_education_services', 'i_agency_type_charter_school_agency', 'i_fin_sdlc_sec', 'i_fin_sdlc_elem_sec', 'i_fin_sdlc_voc', 'i_ucl_city_large', 'i_ucl_city_mid', 'i_ucl_city_small', 'i_ucl_suburb_large', 'i_ucl_suburb_mid', 'i_ucl_suburb_small', 'i_ucl_town_fringe', 'i_ucl_town_distant', 'i_ucl_town_remote', 'i_ucl_rural_fringe', 'i_ucl_rural_distant', 'i_ucl_rural_remote', 'i_cs_all_charter', 'i_cs_charter_noncharter', 'i_cs_all_noncharter', 'i_ma_ne_nr', 'i_ma_metropolitan', 'i_ma_micropolitan', 'i_lgo_K', 'i_lgo_PK']\n"
     ]
    }
   ],
   "source": [
    "INDICATORS = []\n",
    "for v in dftouse.columns:\n",
    "    l=np.unique(dftouse[v])\n",
    "    if len(l) <= 10:\n",
    "        INDICATORS.append(v)\n",
    "        \n",
    "INDICATORS.remove('RESP_High_Graduation')        \n",
    "INDICATORS.remove('RESP_Low_Graduation')  \n",
    "print INDICATORS"
   ]
  },
  {
   "cell_type": "code",
   "execution_count": 157,
   "metadata": {
    "collapsed": true
   },
   "outputs": [],
   "source": [
    "#CITATION: From HW3\n",
    "from sklearn.cross_validation import train_test_split\n",
    "itrain, itest = train_test_split(xrange(dftouse.shape[0]), train_size=0.7)"
   ]
  },
  {
   "cell_type": "code",
   "execution_count": 158,
   "metadata": {
    "collapsed": true
   },
   "outputs": [],
   "source": [
    "#CITATION: From HW3\n",
    "mask=np.ones(dftouse.shape[0], dtype='int')\n",
    "mask[itrain]=1\n",
    "mask[itest]=0\n",
    "mask = (mask==1)"
   ]
  },
  {
   "cell_type": "code",
   "execution_count": 159,
   "metadata": {
    "collapsed": true
   },
   "outputs": [],
   "source": [
    "Xmatrix=dftouse[lcols].values\n",
    "Yresp=dftouse['RESP_High_Graduation'].values\n",
    "#CITATION: From HW3\n",
    "Xmatrix_train=Xmatrix[mask]\n",
    "Xmatrix_test=Xmatrix[~mask]\n",
    "Yresp_train=Yresp[mask]\n",
    "Yresp_test=Yresp[~mask]"
   ]
  },
  {
   "cell_type": "code",
   "execution_count": 160,
   "metadata": {
    "collapsed": false
   },
   "outputs": [
    {
     "name": "stdout",
     "output_type": "stream",
     "text": [
      "% High_Graduation in Training: 0.248774672142\n",
      "% High_Graduation in Testing: 0.249690976514\n",
      "% Low_Graduation in Training: 0.257252616241\n",
      "% Low_Graduation in Testing: 0.236402966625\n"
     ]
    }
   ],
   "source": [
    "# make sure we didn't get unlucky in our mask selection\n",
    "print \"% High_Graduation in Training:\", np.mean(dftouse['RESP_High_Graduation'][mask])\n",
    "print \"% High_Graduation in Testing:\", np.mean(dftouse['RESP_High_Graduation'][~mask])\n",
    "print \"% Low_Graduation in Training:\", np.mean(dftouse['RESP_Low_Graduation'][mask])\n",
    "print \"% Low_Graduation in Testing:\", np.mean(dftouse['RESP_Low_Graduation'][~mask])"
   ]
  },
  {
   "cell_type": "code",
   "execution_count": 161,
   "metadata": {
    "collapsed": true
   },
   "outputs": [],
   "source": [
    "#CITATION: From HW3\n",
    "from sklearn.preprocessing import StandardScaler\n",
    "\n",
    "for col in STANDARDIZABLE:\n",
    "    #print col\n",
    "    valstrain=dftouse[col].values[mask]\n",
    "    valstest=dftouse[col].values[~mask]\n",
    "    scaler=StandardScaler().fit(valstrain)\n",
    "    outtrain=scaler.transform(valstrain)\n",
    "    outtest=scaler.fit_transform(valstest)\n",
    "    out=np.empty(mask.shape[0])\n",
    "    out[mask]=outtrain\n",
    "    out[~mask]=outtest\n",
    "    dftouse[col]=out"
   ]
  },
  {
   "cell_type": "code",
   "execution_count": 162,
   "metadata": {
    "collapsed": false
   },
   "outputs": [
    {
     "name": "stdout",
     "output_type": "stream",
     "text": [
      "130\n"
     ]
    }
   ],
   "source": [
    "#CITATION: From HW3\n",
    "lcols=STANDARDIZABLE+INDICATORS\n",
    "print len(lcols)"
   ]
  },
  {
   "cell_type": "code",
   "execution_count": 163,
   "metadata": {
    "collapsed": true
   },
   "outputs": [],
   "source": [
    "Xmatrix=dftouse[lcols].values\n",
    "Yresp=dftouse['RESP_High_Graduation'].values"
   ]
  },
  {
   "cell_type": "code",
   "execution_count": 164,
   "metadata": {
    "collapsed": true
   },
   "outputs": [],
   "source": [
    "#CITATION: From HW3\n",
    "Xmatrix_train=Xmatrix[mask]\n",
    "Xmatrix_test=Xmatrix[~mask]\n",
    "Yresp_train=Yresp[mask]\n",
    "Yresp_test=Yresp[~mask]"
   ]
  },
  {
   "cell_type": "code",
   "execution_count": 165,
   "metadata": {
    "collapsed": true
   },
   "outputs": [],
   "source": [
    "#CITATION: From HW3\n",
    "from sklearn.grid_search import GridSearchCV"
   ]
  },
  {
   "cell_type": "code",
   "execution_count": 166,
   "metadata": {
    "collapsed": true
   },
   "outputs": [],
   "source": [
    "#CITATION: From HW3\n",
    "def cv_optimize(clf, parameters, X, y, n_folds=5, score_func=None):\n",
    "    if score_func:\n",
    "        gs = GridSearchCV(clf, param_grid=parameters, cv=n_folds, scoring=score_func)\n",
    "    else:\n",
    "        gs = GridSearchCV(clf, param_grid=parameters, cv=n_folds)\n",
    "    gs.fit(X, y)\n",
    "    print \"BEST\", gs.best_params_, gs.best_score_, gs.grid_scores_\n",
    "    best = gs.best_estimator_\n",
    "    return best"
   ]
  },
  {
   "cell_type": "code",
   "execution_count": 167,
   "metadata": {
    "collapsed": true
   },
   "outputs": [],
   "source": [
    "#CITATION: From HW3\n",
    "from sklearn.metrics import confusion_matrix\n",
    "def do_classify(clf, parameters, indf, featurenames, targetname, target1val, mask=None, reuse_split=None, score_func=None, n_folds=5):\n",
    "    subdf=indf[featurenames]\n",
    "    X=subdf.values\n",
    "    y=(indf[targetname].values==target1val)*1\n",
    "    if mask !=None:\n",
    "        print \"using mask\"\n",
    "        Xtrain, Xtest, ytrain, ytest = X[mask], X[~mask], y[mask], y[~mask]\n",
    "    if reuse_split !=None:\n",
    "        print \"using reuse split\"\n",
    "        Xtrain, Xtest, ytrain, ytest = reuse_split['Xtrain'], reuse_split['Xtest'], reuse_split['ytrain'], reuse_split['ytest']\n",
    "    if parameters:\n",
    "        clf = cv_optimize(clf, parameters, Xtrain, ytrain, n_folds=n_folds, score_func=score_func)\n",
    "    clf=clf.fit(Xtrain, ytrain)\n",
    "    training_accuracy = clf.score(Xtrain, ytrain)\n",
    "    test_accuracy = clf.score(Xtest, ytest)\n",
    "    print \"############# based on standard predict ################\"\n",
    "    print \"Accuracy on training data: %0.2f\" % (training_accuracy)\n",
    "    print \"Accuracy on test data:     %0.2f\" % (test_accuracy)\n",
    "    print confusion_matrix(ytest, clf.predict(Xtest))\n",
    "    print \"########################################################\"\n",
    "    return clf, Xtrain, ytrain, Xtest, ytest"
   ]
  },
  {
   "cell_type": "code",
   "execution_count": 168,
   "metadata": {
    "collapsed": true
   },
   "outputs": [],
   "source": [
    "#CITATION: From HW3\n",
    "def nonzero_lasso(clf):\n",
    "    featuremask=(clf.coef_ !=0.0)[0]\n",
    "    return pd.DataFrame(dict(feature=lcols, coef=clf.coef_[0], abscoef=np.abs(clf.coef_[0])))[featuremask].sort('abscoef', ascending=False)"
   ]
  },
  {
   "cell_type": "code",
   "execution_count": 169,
   "metadata": {
    "collapsed": true
   },
   "outputs": [],
   "source": [
    "#CITATION: From HW3\n",
    "from sklearn.linear_model import LogisticRegression"
   ]
  },
  {
   "cell_type": "code",
   "execution_count": 170,
   "metadata": {
    "collapsed": false
   },
   "outputs": [
    {
     "name": "stdout",
     "output_type": "stream",
     "text": [
      "using mask\n",
      "BEST {'C': 1} 0.792422837462 [mean: 0.75123, std: 0.00023, params: {'C': 0.001}, mean: 0.77454, std: 0.00334, params: {'C': 0.01}, mean: 0.78699, std: 0.00367, params: {'C': 0.1}, mean: 0.79242, std: 0.00484, params: {'C': 1}, mean: 0.79083, std: 0.00403, params: {'C': 10}, mean: 0.79057, std: 0.00437, params: {'C': 100}]\n",
      "############# based on standard predict ################\n",
      "Accuracy on training data: 0.80\n",
      "Accuracy on test data:     0.78\n",
      "[[2253  175]\n",
      " [ 525  283]]\n",
      "########################################################\n",
      "CPU times: user 2min 52s, sys: 1.2 s, total: 2min 53s\n",
      "Wall time: 2min 56s\n"
     ]
    },
    {
     "name": "stderr",
     "output_type": "stream",
     "text": [
      "/Users/ChaserAcer/anaconda/lib/python2.7/site-packages/ipykernel/__main__.py:7: FutureWarning: comparison to `None` will result in an elementwise object comparison in the future.\n"
     ]
    }
   ],
   "source": [
    "%%time\n",
    "clflog,Xtrain,ytrain,Xtest,ytest  = do_classify(LogisticRegression(penalty=\"l1\"), {\"C\": [0.001, 0.01, 0.1, 1, 10, 100]}, dftouse, lcols, 'RESP_High_Graduation', 1, mask=mask)\n",
    "#CITATION: Adapted from HW3"
   ]
  },
  {
   "cell_type": "code",
   "execution_count": 171,
   "metadata": {
    "collapsed": true
   },
   "outputs": [],
   "source": [
    "#CITATION: From HW3\n",
    "from sklearn.metrics import roc_curve, auc\n",
    "def make_roc(name, clf, ytest, xtest, ax=None, labe=5, proba=True, skip=0):\n",
    "    initial=False\n",
    "    if not ax:\n",
    "        ax=plt.gca()\n",
    "        initial=True\n",
    "    if proba:#for stuff like logistic regression\n",
    "        fpr, tpr, thresholds=roc_curve(ytest, clf.predict_proba(xtest)[:,1])\n",
    "    else:#for stuff like SVM\n",
    "        fpr, tpr, thresholds=roc_curve(ytest, clf.decision_function(xtest))\n",
    "    roc_auc = auc(fpr, tpr)\n",
    "    if skip:\n",
    "        l=fpr.shape[0]\n",
    "        ax.plot(fpr[0:l:skip], tpr[0:l:skip], '.-', alpha=0.3, label='ROC curve for %s (area = %0.2f)' % (name, roc_auc))\n",
    "    else:\n",
    "        ax.plot(fpr, tpr, '.-', alpha=0.3, label='ROC curve for %s (area = %0.2f)' % (name, roc_auc))\n",
    "    label_kwargs = {}\n",
    "    label_kwargs['bbox'] = dict(\n",
    "        boxstyle='round,pad=0.3', alpha=0.2,\n",
    "    )\n",
    "    if labe!=None:\n",
    "        for k in xrange(0, fpr.shape[0],labe):\n",
    "            #from https://gist.github.com/podshumok/c1d1c9394335d86255b8\n",
    "            threshold = str(np.round(thresholds[k], 2))\n",
    "            ax.annotate(threshold, (fpr[k], tpr[k]), **label_kwargs)\n",
    "    if initial:\n",
    "        ax.plot([0, 1], [0, 1], 'k--')\n",
    "        ax.set_xlim([0.0, 1.0])\n",
    "        ax.set_ylim([0.0, 1.05])\n",
    "        ax.set_xlabel('False Positive Rate')\n",
    "        ax.set_ylabel('True Positive Rate')\n",
    "        ax.set_title('ROC')\n",
    "    ax.legend(loc=\"lower right\")\n",
    "    return ax"
   ]
  },
  {
   "cell_type": "code",
   "execution_count": 172,
   "metadata": {
    "collapsed": false
   },
   "outputs": [
    {
     "data": {
      "image/png": "[encoded data removed]",
      "text/plain": [
       "<matplotlib.figure.Figure at 0x1087ef790>"
      ]
     },
     "metadata": {},
     "output_type": "display_data"
    }
   ],
   "source": [
    "#CITATION: From HW3\n",
    "with sns.color_palette(\"dark\"):\n",
    "    ax=make_roc(\"logistic-with-lasso\",clflog, ytest, Xtest, labe=200, skip=50)"
   ]
  },
  {
   "cell_type": "code",
   "execution_count": 173,
   "metadata": {
    "collapsed": false
   },
   "outputs": [
    {
     "data": {
      "text/html": [
       "<div>\n",
       "<table border=\"1\" class=\"dataframe\">\n",
       "  <thead>\n",
       "    <tr style=\"text-align: right;\">\n",
       "      <th></th>\n",
       "      <th>abscoef</th>\n",
       "      <th>coef</th>\n",
       "    </tr>\n",
       "    <tr>\n",
       "      <th>feature</th>\n",
       "      <th></th>\n",
       "      <th></th>\n",
       "    </tr>\n",
       "  </thead>\n",
       "  <tbody>\n",
       "    <tr>\n",
       "      <th>i_lgo_K</th>\n",
       "      <td>2.577887</td>\n",
       "      <td>2.577887</td>\n",
       "    </tr>\n",
       "    <tr>\n",
       "      <th>i_lgo_PK</th>\n",
       "      <td>2.445071</td>\n",
       "      <td>2.445071</td>\n",
       "    </tr>\n",
       "    <tr>\n",
       "      <th>i_fin_sdlc_sec</th>\n",
       "      <td>1.348039</td>\n",
       "      <td>-1.348039</td>\n",
       "    </tr>\n",
       "    <tr>\n",
       "      <th>r_st_TS</th>\n",
       "      <td>1.076354</td>\n",
       "      <td>-1.076354</td>\n",
       "    </tr>\n",
       "    <tr>\n",
       "      <th>num_schools</th>\n",
       "      <td>1.038473</td>\n",
       "      <td>-1.038473</td>\n",
       "    </tr>\n",
       "    <tr>\n",
       "      <th>tcurbenefits_pp</th>\n",
       "      <td>0.908836</td>\n",
       "      <td>-0.908836</td>\n",
       "    </tr>\n",
       "    <tr>\n",
       "      <th>r_frev_ao</th>\n",
       "      <td>0.809012</td>\n",
       "      <td>0.809012</td>\n",
       "    </tr>\n",
       "    <tr>\n",
       "      <th>r_frev_dis</th>\n",
       "      <td>0.774889</td>\n",
       "      <td>0.774889</td>\n",
       "    </tr>\n",
       "    <tr>\n",
       "      <th>r_stud_912</th>\n",
       "      <td>0.731449</td>\n",
       "      <td>0.731449</td>\n",
       "    </tr>\n",
       "    <tr>\n",
       "      <th>i_fin_sdlc_voc</th>\n",
       "      <td>0.720649</td>\n",
       "      <td>-0.720649</td>\n",
       "    </tr>\n",
       "  </tbody>\n",
       "</table>\n",
       "</div>"
      ],
      "text/plain": [
       "                  abscoef      coef\n",
       "feature                            \n",
       "i_lgo_K          2.577887  2.577887\n",
       "i_lgo_PK         2.445071  2.445071\n",
       "i_fin_sdlc_sec   1.348039 -1.348039\n",
       "r_st_TS          1.076354 -1.076354\n",
       "num_schools      1.038473 -1.038473\n",
       "tcurbenefits_pp  0.908836 -0.908836\n",
       "r_frev_ao        0.809012  0.809012\n",
       "r_frev_dis       0.774889  0.774889\n",
       "r_stud_912       0.731449  0.731449\n",
       "i_fin_sdlc_voc   0.720649 -0.720649"
      ]
     },
     "execution_count": 173,
     "metadata": {},
     "output_type": "execute_result"
    }
   ],
   "source": [
    "#CITATION: From HW3\n",
    "lasso_importances=nonzero_lasso(clflog)\n",
    "lasso_importances.set_index(\"feature\", inplace=True)\n",
    "lasso_importances.head(10)"
   ]
  },
  {
   "cell_type": "code",
   "execution_count": 174,
   "metadata": {
    "collapsed": false
   },
   "outputs": [
    {
     "data": {
      "text/html": [
       "<div>\n",
       "<table border=\"1\" class=\"dataframe\">\n",
       "  <thead>\n",
       "    <tr style=\"text-align: right;\">\n",
       "      <th></th>\n",
       "      <th>abscorr</th>\n",
       "      <th>corr</th>\n",
       "    </tr>\n",
       "    <tr>\n",
       "      <th>feature</th>\n",
       "      <th></th>\n",
       "      <th></th>\n",
       "    </tr>\n",
       "  </thead>\n",
       "  <tbody>\n",
       "    <tr>\n",
       "      <th>r_lunch_free</th>\n",
       "      <td>0.293478</td>\n",
       "      <td>-0.293478</td>\n",
       "    </tr>\n",
       "    <tr>\n",
       "      <th>r_stud_912</th>\n",
       "      <td>0.214740</td>\n",
       "      <td>0.214740</td>\n",
       "    </tr>\n",
       "    <tr>\n",
       "      <th>r_stud_18</th>\n",
       "      <td>0.207635</td>\n",
       "      <td>-0.207635</td>\n",
       "    </tr>\n",
       "    <tr>\n",
       "      <th>tlocrev_percent</th>\n",
       "      <td>0.206009</td>\n",
       "      <td>0.206009</td>\n",
       "    </tr>\n",
       "    <tr>\n",
       "      <th>tfedrev_percent</th>\n",
       "      <td>0.190742</td>\n",
       "      <td>-0.190742</td>\n",
       "    </tr>\n",
       "    <tr>\n",
       "      <th>tlocrev_pp</th>\n",
       "      <td>0.178187</td>\n",
       "      <td>0.178187</td>\n",
       "    </tr>\n",
       "    <tr>\n",
       "      <th>r_frev_dis</th>\n",
       "      <td>0.169788</td>\n",
       "      <td>0.169788</td>\n",
       "    </tr>\n",
       "    <tr>\n",
       "      <th>r_frev_title1</th>\n",
       "      <td>0.168795</td>\n",
       "      <td>-0.168795</td>\n",
       "    </tr>\n",
       "    <tr>\n",
       "      <th>tsrev_percent</th>\n",
       "      <td>0.159817</td>\n",
       "      <td>-0.159817</td>\n",
       "    </tr>\n",
       "    <tr>\n",
       "      <th>r_frev_cna</th>\n",
       "      <td>0.139073</td>\n",
       "      <td>-0.139073</td>\n",
       "    </tr>\n",
       "    <tr>\n",
       "      <th>r_srev_sep</th>\n",
       "      <td>0.125920</td>\n",
       "      <td>0.125920</td>\n",
       "    </tr>\n",
       "    <tr>\n",
       "      <th>r_st_ST</th>\n",
       "      <td>0.120914</td>\n",
       "      <td>0.120914</td>\n",
       "    </tr>\n",
       "    <tr>\n",
       "      <th>tcuroth_percent</th>\n",
       "      <td>0.113257</td>\n",
       "      <td>-0.113257</td>\n",
       "    </tr>\n",
       "    <tr>\n",
       "      <th>i_ucl_suburb_large</th>\n",
       "      <td>0.105350</td>\n",
       "      <td>0.105350</td>\n",
       "    </tr>\n",
       "    <tr>\n",
       "      <th>r_srev_gfa</th>\n",
       "      <td>0.103626</td>\n",
       "      <td>-0.103626</td>\n",
       "    </tr>\n",
       "    <tr>\n",
       "      <th>r_ELL</th>\n",
       "      <td>0.102259</td>\n",
       "      <td>-0.102259</td>\n",
       "    </tr>\n",
       "    <tr>\n",
       "      <th>r_lunch_reduced</th>\n",
       "      <td>0.085670</td>\n",
       "      <td>-0.085670</td>\n",
       "    </tr>\n",
       "    <tr>\n",
       "      <th>num_pub_schools</th>\n",
       "      <td>0.084760</td>\n",
       "      <td>-0.084760</td>\n",
       "    </tr>\n",
       "    <tr>\n",
       "      <th>num_schools</th>\n",
       "      <td>0.084668</td>\n",
       "      <td>-0.084668</td>\n",
       "    </tr>\n",
       "    <tr>\n",
       "      <th>instexp_pp</th>\n",
       "      <td>0.083982</td>\n",
       "      <td>0.083982</td>\n",
       "    </tr>\n",
       "    <tr>\n",
       "      <th>tcurinst_pp</th>\n",
       "      <td>0.083982</td>\n",
       "      <td>0.083982</td>\n",
       "    </tr>\n",
       "    <tr>\n",
       "      <th>r_stud_PKK</th>\n",
       "      <td>0.079732</td>\n",
       "      <td>-0.079732</td>\n",
       "    </tr>\n",
       "    <tr>\n",
       "      <th>i_fin_sdlc_elem_sec</th>\n",
       "      <td>0.075548</td>\n",
       "      <td>-0.075548</td>\n",
       "    </tr>\n",
       "    <tr>\n",
       "      <th>r_lrev_pgc</th>\n",
       "      <td>0.073985</td>\n",
       "      <td>-0.073985</td>\n",
       "    </tr>\n",
       "    <tr>\n",
       "      <th>num_students</th>\n",
       "      <td>0.072286</td>\n",
       "      <td>-0.072286</td>\n",
       "    </tr>\n",
       "  </tbody>\n",
       "</table>\n",
       "</div>"
      ],
      "text/plain": [
       "                      abscorr      corr\n",
       "feature                                \n",
       "r_lunch_free         0.293478 -0.293478\n",
       "r_stud_912           0.214740  0.214740\n",
       "r_stud_18            0.207635 -0.207635\n",
       "tlocrev_percent      0.206009  0.206009\n",
       "tfedrev_percent      0.190742 -0.190742\n",
       "tlocrev_pp           0.178187  0.178187\n",
       "r_frev_dis           0.169788  0.169788\n",
       "r_frev_title1        0.168795 -0.168795\n",
       "tsrev_percent        0.159817 -0.159817\n",
       "r_frev_cna           0.139073 -0.139073\n",
       "r_srev_sep           0.125920  0.125920\n",
       "r_st_ST              0.120914  0.120914\n",
       "tcuroth_percent      0.113257 -0.113257\n",
       "i_ucl_suburb_large   0.105350  0.105350\n",
       "r_srev_gfa           0.103626 -0.103626\n",
       "r_ELL                0.102259 -0.102259\n",
       "r_lunch_reduced      0.085670 -0.085670\n",
       "num_pub_schools      0.084760 -0.084760\n",
       "num_schools          0.084668 -0.084668\n",
       "instexp_pp           0.083982  0.083982\n",
       "tcurinst_pp          0.083982  0.083982\n",
       "r_stud_PKK           0.079732 -0.079732\n",
       "i_fin_sdlc_elem_sec  0.075548 -0.075548\n",
       "r_lrev_pgc           0.073985 -0.073985\n",
       "num_students         0.072286 -0.072286"
      ]
     },
     "execution_count": 174,
     "metadata": {},
     "output_type": "execute_result"
    }
   ],
   "source": [
    "#CITATION: From HW3\n",
    "from scipy.stats.stats import pearsonr\n",
    "correlations=[]\n",
    "dftousetrain=dftouse[mask]\n",
    "for col in lcols:\n",
    "    r=pearsonr(dftousetrain[col], dftousetrain['RESP_High_Graduation'])[0]\n",
    "    correlations.append(dict(feature=col,corr=r, abscorr=np.abs(r)))\n",
    "\n",
    "bpdf=pd.DataFrame(correlations).sort('abscorr', ascending=False)\n",
    "bpdf.set_index(['feature'], inplace=True)\n",
    "bpdf.head(25)"
   ]
  },
  {
   "cell_type": "markdown",
   "metadata": {},
   "source": [
    "Low"
   ]
  },
  {
   "cell_type": "code",
   "execution_count": 175,
   "metadata": {
    "collapsed": true
   },
   "outputs": [],
   "source": [
    "Xmatrix=dftouse[lcols].values\n",
    "Yresp=dftouse['RESP_Low_Graduation'].values"
   ]
  },
  {
   "cell_type": "code",
   "execution_count": 176,
   "metadata": {
    "collapsed": false
   },
   "outputs": [
    {
     "name": "stdout",
     "output_type": "stream",
     "text": [
      "using mask\n",
      "BEST {'C': 10} 0.80818651477 [mean: 0.74275, std: 0.00016, params: {'C': 0.001}, mean: 0.79295, std: 0.00596, params: {'C': 0.01}, mean: 0.80739, std: 0.00811, params: {'C': 0.1}, mean: 0.80686, std: 0.00911, params: {'C': 1}, mean: 0.80819, std: 0.01012, params: {'C': 10}, mean: 0.80805, std: 0.00989, params: {'C': 100}]\n",
      "############# based on standard predict ################\n",
      "Accuracy on training data: 0.82\n",
      "Accuracy on test data:     0.82\n",
      "[[2275  196]\n",
      " [ 394  371]]\n",
      "########################################################\n",
      "CPU times: user 2min 52s, sys: 1.61 s, total: 2min 54s\n",
      "Wall time: 2min 59s\n"
     ]
    },
    {
     "name": "stderr",
     "output_type": "stream",
     "text": [
      "/Users/ChaserAcer/anaconda/lib/python2.7/site-packages/ipykernel/__main__.py:7: FutureWarning: comparison to `None` will result in an elementwise object comparison in the future.\n"
     ]
    }
   ],
   "source": [
    "%%time\n",
    "clflog,_,_,_,_  = do_classify(LogisticRegression(penalty=\"l1\"), {\"C\": [0.001, 0.01, 0.1, 1, 10, 100]}, dftouse, lcols, 'RESP_Low_Graduation', 1, mask=mask)\n",
    "#CITATION: Adapted from HW3"
   ]
  },
  {
   "cell_type": "code",
   "execution_count": 177,
   "metadata": {
    "collapsed": false
   },
   "outputs": [
    {
     "data": {
      "image/png": "[encoded data removed]",
      "text/plain": [
       "<matplotlib.figure.Figure at 0x114f1cf50>"
      ]
     },
     "metadata": {},
     "output_type": "display_data"
    }
   ],
   "source": [
    "with sns.color_palette(\"dark\"):\n",
    "    ax=make_roc(\"logistic-with-lasso\",clflog, ytest, Xtest, labe=200, skip=50)"
   ]
  },
  {
   "cell_type": "code",
   "execution_count": 178,
   "metadata": {
    "collapsed": false
   },
   "outputs": [
    {
     "data": {
      "text/html": [
       "<div>\n",
       "<table border=\"1\" class=\"dataframe\">\n",
       "  <thead>\n",
       "    <tr style=\"text-align: right;\">\n",
       "      <th></th>\n",
       "      <th>abscoef</th>\n",
       "      <th>coef</th>\n",
       "    </tr>\n",
       "    <tr>\n",
       "      <th>feature</th>\n",
       "      <th></th>\n",
       "      <th></th>\n",
       "    </tr>\n",
       "  </thead>\n",
       "  <tbody>\n",
       "    <tr>\n",
       "      <th>i_lgo_K</th>\n",
       "      <td>3.099082</td>\n",
       "      <td>-3.099082</td>\n",
       "    </tr>\n",
       "    <tr>\n",
       "      <th>i_lgo_PK</th>\n",
       "      <td>3.097610</td>\n",
       "      <td>-3.097610</td>\n",
       "    </tr>\n",
       "    <tr>\n",
       "      <th>r_st_TS</th>\n",
       "      <td>1.838395</td>\n",
       "      <td>1.838395</td>\n",
       "    </tr>\n",
       "    <tr>\n",
       "      <th>i_fin_sdlc_voc</th>\n",
       "      <td>1.576042</td>\n",
       "      <td>1.576042</td>\n",
       "    </tr>\n",
       "    <tr>\n",
       "      <th>totalexp_pp</th>\n",
       "      <td>1.306304</td>\n",
       "      <td>1.306304</td>\n",
       "    </tr>\n",
       "    <tr>\n",
       "      <th>r_stud_912</th>\n",
       "      <td>0.856672</td>\n",
       "      <td>-0.856672</td>\n",
       "    </tr>\n",
       "    <tr>\n",
       "      <th>r_frev_ao</th>\n",
       "      <td>0.780400</td>\n",
       "      <td>-0.780400</td>\n",
       "    </tr>\n",
       "    <tr>\n",
       "      <th>i_ma_metropolitan</th>\n",
       "      <td>0.778464</td>\n",
       "      <td>0.778464</td>\n",
       "    </tr>\n",
       "    <tr>\n",
       "      <th>i_ucl_city_small</th>\n",
       "      <td>0.740225</td>\n",
       "      <td>0.740225</td>\n",
       "    </tr>\n",
       "    <tr>\n",
       "      <th>i_ma_micropolitan</th>\n",
       "      <td>0.722069</td>\n",
       "      <td>0.722069</td>\n",
       "    </tr>\n",
       "  </tbody>\n",
       "</table>\n",
       "</div>"
      ],
      "text/plain": [
       "                    abscoef      coef\n",
       "feature                              \n",
       "i_lgo_K            3.099082 -3.099082\n",
       "i_lgo_PK           3.097610 -3.097610\n",
       "r_st_TS            1.838395  1.838395\n",
       "i_fin_sdlc_voc     1.576042  1.576042\n",
       "totalexp_pp        1.306304  1.306304\n",
       "r_stud_912         0.856672 -0.856672\n",
       "r_frev_ao          0.780400 -0.780400\n",
       "i_ma_metropolitan  0.778464  0.778464\n",
       "i_ucl_city_small   0.740225  0.740225\n",
       "i_ma_micropolitan  0.722069  0.722069"
      ]
     },
     "execution_count": 178,
     "metadata": {},
     "output_type": "execute_result"
    }
   ],
   "source": [
    "#CITATION: From HW3\n",
    "lasso_importances=nonzero_lasso(clflog)\n",
    "lasso_importances.set_index(\"feature\", inplace=True)\n",
    "lasso_importances.head(10)"
   ]
  },
  {
   "cell_type": "code",
   "execution_count": null,
   "metadata": {
    "collapsed": true
   },
   "outputs": [],
   "source": []
  },
  {
   "cell_type": "code",
   "execution_count": null,
   "metadata": {
    "collapsed": true
   },
   "outputs": [],
   "source": []
  },
  {
   "cell_type": "code",
   "execution_count": null,
   "metadata": {
    "collapsed": true
   },
   "outputs": [],
   "source": []
  },
  {
   "cell_type": "code",
   "execution_count": 147,
   "metadata": {
    "collapsed": false
   },
   "outputs": [
    {
     "data": {
      "text/plain": [
       "[['r_lunch_free',\n",
       "  'r_stud_reg_12_W_F',\n",
       "  'r_stud_reg_12_W_M',\n",
       "  'tlocrev_percent',\n",
       "  'r_stud_912',\n",
       "  'r_stud_18',\n",
       "  'tfedrev_percent',\n",
       "  'tlocrev_pp',\n",
       "  'r_stud_re_W',\n",
       "  'tsrev_percent']]"
      ]
     },
     "execution_count": 147,
     "metadata": {},
     "output_type": "execute_result"
    }
   ],
   "source": [
    "#High - Lasso\n",
    "[['i_agency_type_regional_education_services', 'i_lgo_PK', 'i_lgo_K', 'num_schools', 'i_fin_sdlc_sec', 'r_frev_ao', 'r_frev_dis', 'totalexp_pp', 'r_stud_reg_12_W_M', 'r_stud_reg_12_W_F']]"
   ]
  },
  {
   "cell_type": "code",
   "execution_count": null,
   "metadata": {
    "collapsed": true
   },
   "outputs": [],
   "source": [
    "#Low - Lasso\n",
    "[['i_fin_sdlc_elem_sec', 'i_fin_sdlc_voc', 'r_stud_reg_12_W_F', 'i_lgo_PK', 'r_stud_reg_12_W_M', 'i_lgo_K', 'i_agency_type_local_school_district', 'r_frev_ao', 'r_stud_re_B', 'r_stud_912']]"
   ]
  },
  {
   "cell_type": "code",
   "execution_count": null,
   "metadata": {
    "collapsed": true
   },
   "outputs": [],
   "source": [
    "#Top - No Gender/Ethnicity\n",
    "[['i_lgo_K', 'i_lgo_PK', 'i_fin_sdlc_sec', 'r_st_IA', 'num_schools', 'r_IEP', 'totalexp_pp', 'tcurbenefits_pp', 'r_stud_912', 'tfedrev_percent']]"
   ]
  },
  {
   "cell_type": "code",
   "execution_count": null,
   "metadata": {
    "collapsed": true
   },
   "outputs": [],
   "source": [
    "#Bottom - No Gender/Ethnicity\n",
    "[['Agency ID - NCES Assigned [District] Latest available year', 'i_lgo_K', 'i_lgo_PK', 'r_st_TS', 'i_fin_sdlc_voc', 'Total Expenditures (TOTALEXP) per Pupil (V33) [District Finance] 2009-10', 'r_stud_912', 'r_frev_ao', 'i_ma_metropolitan', 'i_ucl_city_small', 'i_ma_micropolitan']]"
   ]
  }
 ],
 "metadata": {
  "kernelspec": {
   "display_name": "Python 2",
   "language": "python",
   "name": "python2"
  },
  "language_info": {
   "codemirror_mode": {
    "name": "ipython",
    "version": 2
   },
   "file_extension": ".py",
   "mimetype": "text/x-python",
   "name": "python",
   "nbconvert_exporter": "python",
   "pygments_lexer": "ipython2",
   "version": "2.7.10"
  }
 },
 "nbformat": 4,
 "nbformat_minor": 0
}
