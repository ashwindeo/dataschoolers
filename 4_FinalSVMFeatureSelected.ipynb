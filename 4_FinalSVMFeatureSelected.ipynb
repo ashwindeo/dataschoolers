{
 "cells": [
  {
   "cell_type": "markdown",
   "metadata": {},
   "source": [
    "# SVM Feature Selected Classifiers without gender/ethnicity\n",
    "\n",
    "In order to enable visualizing factors that school districts could readily change versus would be more difficult to change, we needed two more runs of our best models - SVM Feature Selected without gender and ethnicity features for classifying high graduation and low graduation."
   ]
  },
  {
   "cell_type": "markdown",
   "metadata": {},
   "source": [
    "## Table of Contents\n",
    "\n",
    "* [SVM Feature Selected Classifiers without gender/ethnicity](#Classifiers-without-gender/ethnicity)<br>\n",
    "    * [1. High Graduation - No Gender/Ethnicity](#High-Graduation---No-Gender/Ethnicity)<br>\n",
    "    * [2. Low Graduation - No Gender/Ethnicity](#Low-Graduation---No-Gender/Ethnicity)<br>\n"
   ]
  },
  {
   "cell_type": "code",
   "execution_count": 1,
   "metadata": {
    "collapsed": true
   },
   "outputs": [],
   "source": [
    "%matplotlib inline\n",
    "import numpy as np\n",
    "import scipy as sp\n",
    "import matplotlib as mpl\n",
    "import matplotlib.cm as cm\n",
    "import matplotlib.pyplot as plt\n",
    "import pandas as pd\n",
    "pd.set_option('display.width', 500)\n",
    "pd.set_option('display.max_columns', 100)\n",
    "pd.set_option('display.notebook_repr_html', True)\n",
    "import seaborn as sns\n",
    "sns.set_style(\"whitegrid\")\n",
    "sns.set_context(\"poster\")"
   ]
  },
  {
   "cell_type": "code",
   "execution_count": 2,
   "metadata": {
    "collapsed": true
   },
   "outputs": [],
   "source": [
    "dftouse=pd.read_csv(\"data/finaldata/dftouse.csv\")"
   ]
  },
  {
   "cell_type": "code",
   "execution_count": 3,
   "metadata": {
    "collapsed": false
   },
   "outputs": [
    {
     "name": "stdout",
     "output_type": "stream",
     "text": [
      "['num_students', 'num_schools', 'num_charter_schools', 'num_pub_schools', 'tcuresal_percent', 'pupil_teacher_ratio_dist', 'pupil_teacher_ratio_ps', 'totalrev_pp', 'tlocrev_pp', 'tsrev_pp', 'tfedrev_pp', 'tcurinst_pp', 'tcurssv_pp', 'tcuroth_pp', 'tcursalary_pp', 'tcurbenefits_pp', 'totalexp_pp', 'tcapout_pp', 'tnonelse_pp', 'tcurelsc_pp', 'instexp_pp', 'tcurinst_percent', 'tcuroth_percent', 'tcurelsc_percent', 'tcurssvc_percent', 'tfedrev_percent', 'tlocrev_percent', 'tsrev_percent', 'r_ELL', 'r_IEP', 'r_lunch_free', 'r_lunch_reduced', 'r_stud_PKK', 'r_stud_18', 'r_stud_912', 'r_st_PKT', 'r_st_KT', 'r_st_ET', 'r_st_ST', 'r_st_UT', 'r_st_TS', 'r_st_IA', 'r_st_IC', 'r_st_EGC', 'r_st_SGC', 'r_st_OGC', 'r_st_TGC', 'r_st_LMS', 'r_st_LMSS', 'r_st_LEA', 'r_st_LEASS', 'r_st_SA', 'r_st_SASS', 'r_st_SSSS', 'r_st_OSSS', 'r_lrev_pt', 'r_lrev_gst', 'r_lrev_put', 'r_lrev_it', 'r_lrev_aot', 'r_lrev_pgc', 'r_lrev_cc', 'r_lrev_oss', 'r_lrev_tui', 'r_lrev_trans', 'r_lrev_slr', 'r_lrev_ts', 'r_lrev_sar', 'r_lrev_osalserv', 'r_lrev_sfns', 'r_lrev_ie', 'r_lrev_molr', 'r_lrev_sp', 'r_lrev_rr', 'r_lrev_sale', 'r_lrev_ff', 'r_lrev_pc', 'r_srev_gfa', 'r_srev_sep', 'r_srev_trans', 'r_srev_sip', 'r_srev_cbsp', 'r_srev_vep', 'r_srev_codsp', 'r_srev_bep', 'r_srev_gt', 'r_srev_slp', 'r_srev_aor', 'r_srev_splea', 'r_srev_osp', 'r_srev_ns', 'r_frev_title1', 'r_frev_dis', 'r_frev_cna', 'r_frev_ems', 'r_frev_dfs', 'r_frev_voc', 'r_frev_ao', 'r_frev_ns', 'r_frev_ia', 'r_frev_be', 'r_frev_na', 'r_frev_aofed']\n"
     ]
    }
   ],
   "source": [
    "STANDARDIZABLE = ['num_students', 'num_schools','num_charter_schools','num_pub_schools','tcuresal_percent','pupil_teacher_ratio_dist', 'pupil_teacher_ratio_ps', 'totalrev_pp','tlocrev_pp','tsrev_pp','tfedrev_pp','tcurinst_pp','tcurssv_pp','tcuroth_pp','tcursalary_pp','tcurbenefits_pp','totalexp_pp','tcapout_pp','tnonelse_pp','tcurelsc_pp','instexp_pp','tcurinst_percent','tcuroth_percent','tcurelsc_percent','tcurssvc_percent','tfedrev_percent','tlocrev_percent','tsrev_percent','r_ELL','r_IEP','r_lunch_free','r_lunch_reduced','r_stud_PKK','r_stud_18','r_stud_912','r_st_PKT','r_st_KT','r_st_ET','r_st_ST','r_st_UT','r_st_TS','r_st_IA','r_st_IC','r_st_EGC','r_st_SGC','r_st_OGC','r_st_TGC','r_st_LMS','r_st_LMSS','r_st_LEA','r_st_LEASS','r_st_SA','r_st_SASS','r_st_SSSS','r_st_OSSS','r_lrev_pt','r_lrev_gst','r_lrev_put','r_lrev_it','r_lrev_aot','r_lrev_pgc','r_lrev_cc','r_lrev_oss','r_lrev_tui','r_lrev_trans','r_lrev_slr','r_lrev_ts','r_lrev_sar','r_lrev_osalserv','r_lrev_sfns','r_lrev_ie','r_lrev_molr','r_lrev_sp','r_lrev_rr','r_lrev_sale','r_lrev_ff','r_lrev_pc','r_srev_gfa','r_srev_sep','r_srev_trans','r_srev_sip','r_srev_cbsp','r_srev_vep','r_srev_codsp','r_srev_bep','r_srev_gt','r_srev_slp','r_srev_aor','r_srev_splea','r_srev_osp','r_srev_ns','r_frev_title1','r_frev_dis','r_frev_cna','r_frev_ems','r_frev_dfs','r_frev_voc','r_frev_ao','r_frev_ns','r_frev_ia','r_frev_be','r_frev_na','r_frev_aofed']\n",
    "print STANDARDIZABLE"
   ]
  },
  {
   "cell_type": "code",
   "execution_count": 4,
   "metadata": {
    "collapsed": false
   },
   "outputs": [
    {
     "name": "stdout",
     "output_type": "stream",
     "text": [
      "['i_agency_type_local_school_district', 'i_agency_type_local_school_district_sup_union', 'i_agency_type_regional_education_services', 'i_agency_type_charter_school_agency', 'i_fin_sdlc_sec', 'i_fin_sdlc_elem_sec', 'i_fin_sdlc_voc', 'i_ucl_city_large', 'i_ucl_city_mid', 'i_ucl_city_small', 'i_ucl_suburb_large', 'i_ucl_suburb_mid', 'i_ucl_suburb_small', 'i_ucl_town_fringe', 'i_ucl_town_distant', 'i_ucl_town_remote', 'i_ucl_rural_fringe', 'i_ucl_rural_distant', 'i_ucl_rural_remote', 'i_cs_all_charter', 'i_cs_charter_noncharter', 'i_cs_all_noncharter', 'i_ma_ne_nr', 'i_ma_metropolitan', 'i_ma_micropolitan', 'i_lgo_K', 'i_lgo_PK']\n"
     ]
    }
   ],
   "source": [
    "INDICATORS = []\n",
    "for v in dftouse.columns:\n",
    "    l=np.unique(dftouse[v])\n",
    "    if len(l) <= 10:\n",
    "        INDICATORS.append(v)\n",
    "        \n",
    "INDICATORS.remove('RESP_High_Graduation')        \n",
    "INDICATORS.remove('RESP_Low_Graduation')  \n",
    "print INDICATORS"
   ]
  },
  {
   "cell_type": "code",
   "execution_count": 5,
   "metadata": {
    "collapsed": true
   },
   "outputs": [],
   "source": [
    "#CITATION: From HW3\n",
    "from sklearn.cross_validation import train_test_split\n",
    "itrain, itest = train_test_split(xrange(dftouse.shape[0]), train_size=0.7)"
   ]
  },
  {
   "cell_type": "code",
   "execution_count": 6,
   "metadata": {
    "collapsed": true
   },
   "outputs": [],
   "source": [
    "#CITATION: From HW3\n",
    "mask=np.ones(dftouse.shape[0], dtype='int')\n",
    "mask[itrain]=1\n",
    "mask[itest]=0\n",
    "mask = (mask==1)"
   ]
  },
  {
   "cell_type": "code",
   "execution_count": 8,
   "metadata": {
    "collapsed": false
   },
   "outputs": [],
   "source": [
    "lcols=STANDARDIZABLE+INDICATORS\n",
    "Xmatrix=dftouse[lcols].values\n",
    "Yresp=dftouse['RESP_High_Graduation'].values\n",
    "#CITATION: From HW3\n",
    "Xmatrix_train=Xmatrix[mask]\n",
    "Xmatrix_test=Xmatrix[~mask]\n",
    "Yresp_train=Yresp[mask]\n",
    "Yresp_test=Yresp[~mask]"
   ]
  },
  {
   "cell_type": "code",
   "execution_count": 9,
   "metadata": {
    "collapsed": false
   },
   "outputs": [
    {
     "name": "stdout",
     "output_type": "stream",
     "text": [
      "% High_Graduation in Training: 0.247979864883\n",
      "% High_Graduation in Testing: 0.251545117429\n",
      "% Low_Graduation in Training: 0.249834415154\n",
      "% Low_Graduation in Testing: 0.253708281829\n"
     ]
    }
   ],
   "source": [
    "# make sure we didn't get unlucky in our mask selection\n",
    "print \"% High_Graduation in Training:\", np.mean(dftouse['RESP_High_Graduation'][mask])\n",
    "print \"% High_Graduation in Testing:\", np.mean(dftouse['RESP_High_Graduation'][~mask])\n",
    "print \"% Low_Graduation in Training:\", np.mean(dftouse['RESP_Low_Graduation'][mask])\n",
    "print \"% Low_Graduation in Testing:\", np.mean(dftouse['RESP_Low_Graduation'][~mask])"
   ]
  },
  {
   "cell_type": "code",
   "execution_count": 10,
   "metadata": {
    "collapsed": true
   },
   "outputs": [],
   "source": [
    "#CITATION: From HW3\n",
    "from sklearn.preprocessing import StandardScaler\n",
    "\n",
    "for col in STANDARDIZABLE:\n",
    "    #print col\n",
    "    valstrain=dftouse[col].values[mask]\n",
    "    valstest=dftouse[col].values[~mask]\n",
    "    scaler=StandardScaler().fit(valstrain)\n",
    "    outtrain=scaler.transform(valstrain)\n",
    "    outtest=scaler.fit_transform(valstest)\n",
    "    out=np.empty(mask.shape[0])\n",
    "    out[mask]=outtrain\n",
    "    out[~mask]=outtest\n",
    "    dftouse[col]=out"
   ]
  },
  {
   "cell_type": "code",
   "execution_count": 12,
   "metadata": {
    "collapsed": true
   },
   "outputs": [],
   "source": [
    "#CITATION: From HW3\n",
    "from sklearn.grid_search import GridSearchCV"
   ]
  },
  {
   "cell_type": "code",
   "execution_count": 13,
   "metadata": {
    "collapsed": true
   },
   "outputs": [],
   "source": [
    "#CITATION: From HW3\n",
    "def cv_optimize(clf, parameters, X, y, n_folds=5, score_func=None):\n",
    "    if score_func:\n",
    "        gs = GridSearchCV(clf, param_grid=parameters, cv=n_folds, scoring=score_func)\n",
    "    else:\n",
    "        gs = GridSearchCV(clf, param_grid=parameters, cv=n_folds)\n",
    "    gs.fit(X, y)\n",
    "    print \"BEST\", gs.best_params_, gs.best_score_, gs.grid_scores_\n",
    "    best = gs.best_estimator_\n",
    "    return best"
   ]
  },
  {
   "cell_type": "code",
   "execution_count": 14,
   "metadata": {
    "collapsed": true
   },
   "outputs": [],
   "source": [
    "#CITATION: From HW3\n",
    "from sklearn.metrics import confusion_matrix\n",
    "def do_classify(clf, parameters, indf, featurenames, targetname, target1val, mask=None, reuse_split=None, score_func=None, n_folds=5):\n",
    "    subdf=indf[featurenames]\n",
    "    X=subdf.values\n",
    "    y=(indf[targetname].values==target1val)*1\n",
    "    if mask !=None:\n",
    "        print \"using mask\"\n",
    "        Xtrain, Xtest, ytrain, ytest = X[mask], X[~mask], y[mask], y[~mask]\n",
    "    if reuse_split !=None:\n",
    "        print \"using reuse split\"\n",
    "        Xtrain, Xtest, ytrain, ytest = reuse_split['Xtrain'], reuse_split['Xtest'], reuse_split['ytrain'], reuse_split['ytest']\n",
    "    if parameters:\n",
    "        clf = cv_optimize(clf, parameters, Xtrain, ytrain, n_folds=n_folds, score_func=score_func)\n",
    "    clf=clf.fit(Xtrain, ytrain)\n",
    "    training_accuracy = clf.score(Xtrain, ytrain)\n",
    "    test_accuracy = clf.score(Xtest, ytest)\n",
    "    print \"############# based on standard predict ################\"\n",
    "    print \"Accuracy on training data: %0.2f\" % (training_accuracy)\n",
    "    print \"Accuracy on test data:     %0.2f\" % (test_accuracy)\n",
    "    print confusion_matrix(ytest, clf.predict(Xtest))\n",
    "    print \"########################################################\"\n",
    "    return clf, Xtrain, ytrain, Xtest, ytest"
   ]
  },
  {
   "cell_type": "code",
   "execution_count": 15,
   "metadata": {
    "collapsed": true
   },
   "outputs": [],
   "source": [
    "#CITATION: From HW3\n",
    "def nonzero_lasso(clf):\n",
    "    featuremask=(clf.coef_ !=0.0)[0]\n",
    "    return pd.DataFrame(dict(feature=lcols, coef=clf.coef_[0], abscoef=np.abs(clf.coef_[0])))[featuremask].sort('abscoef', ascending=False)"
   ]
  },
  {
   "cell_type": "markdown",
   "metadata": {},
   "source": [
    "##### High Graduation - No Gender/Ethnicity"
   ]
  },
  {
   "cell_type": "code",
   "execution_count": 16,
   "metadata": {
    "collapsed": true
   },
   "outputs": [],
   "source": [
    "from scipy.stats.stats import pearsonr"
   ]
  },
  {
   "cell_type": "code",
   "execution_count": 17,
   "metadata": {
    "collapsed": false
   },
   "outputs": [
    {
     "data": {
      "text/html": [
       "<div>\n",
       "<table border=\"1\" class=\"dataframe\">\n",
       "  <thead>\n",
       "    <tr style=\"text-align: right;\">\n",
       "      <th></th>\n",
       "      <th>abscorr</th>\n",
       "      <th>corr</th>\n",
       "    </tr>\n",
       "    <tr>\n",
       "      <th>feature</th>\n",
       "      <th></th>\n",
       "      <th></th>\n",
       "    </tr>\n",
       "  </thead>\n",
       "  <tbody>\n",
       "    <tr>\n",
       "      <th>r_lunch_free</th>\n",
       "      <td>0.300986</td>\n",
       "      <td>-0.300986</td>\n",
       "    </tr>\n",
       "    <tr>\n",
       "      <th>tlocrev_percent</th>\n",
       "      <td>0.219284</td>\n",
       "      <td>0.219284</td>\n",
       "    </tr>\n",
       "    <tr>\n",
       "      <th>r_stud_18</th>\n",
       "      <td>0.215640</td>\n",
       "      <td>-0.215640</td>\n",
       "    </tr>\n",
       "    <tr>\n",
       "      <th>r_stud_912</th>\n",
       "      <td>0.213236</td>\n",
       "      <td>0.213236</td>\n",
       "    </tr>\n",
       "    <tr>\n",
       "      <th>tfedrev_percent</th>\n",
       "      <td>0.195283</td>\n",
       "      <td>-0.195283</td>\n",
       "    </tr>\n",
       "    <tr>\n",
       "      <th>tlocrev_pp</th>\n",
       "      <td>0.179521</td>\n",
       "      <td>0.179521</td>\n",
       "    </tr>\n",
       "    <tr>\n",
       "      <th>tsrev_percent</th>\n",
       "      <td>0.166873</td>\n",
       "      <td>-0.166873</td>\n",
       "    </tr>\n",
       "    <tr>\n",
       "      <th>r_frev_dis</th>\n",
       "      <td>0.166860</td>\n",
       "      <td>0.166860</td>\n",
       "    </tr>\n",
       "    <tr>\n",
       "      <th>r_frev_title1</th>\n",
       "      <td>0.154755</td>\n",
       "      <td>-0.154755</td>\n",
       "    </tr>\n",
       "    <tr>\n",
       "      <th>r_frev_cna</th>\n",
       "      <td>0.136677</td>\n",
       "      <td>-0.136677</td>\n",
       "    </tr>\n",
       "    <tr>\n",
       "      <th>r_srev_sep</th>\n",
       "      <td>0.123350</td>\n",
       "      <td>0.123350</td>\n",
       "    </tr>\n",
       "    <tr>\n",
       "      <th>i_ucl_suburb_large</th>\n",
       "      <td>0.116087</td>\n",
       "      <td>0.116087</td>\n",
       "    </tr>\n",
       "    <tr>\n",
       "      <th>tcuroth_percent</th>\n",
       "      <td>0.113994</td>\n",
       "      <td>-0.113994</td>\n",
       "    </tr>\n",
       "    <tr>\n",
       "      <th>r_srev_gfa</th>\n",
       "      <td>0.110739</td>\n",
       "      <td>-0.110739</td>\n",
       "    </tr>\n",
       "    <tr>\n",
       "      <th>r_ELL</th>\n",
       "      <td>0.104733</td>\n",
       "      <td>-0.104733</td>\n",
       "    </tr>\n",
       "    <tr>\n",
       "      <th>tcurinst_pp</th>\n",
       "      <td>0.097023</td>\n",
       "      <td>0.097023</td>\n",
       "    </tr>\n",
       "    <tr>\n",
       "      <th>instexp_pp</th>\n",
       "      <td>0.097023</td>\n",
       "      <td>0.097023</td>\n",
       "    </tr>\n",
       "    <tr>\n",
       "      <th>num_pub_schools</th>\n",
       "      <td>0.094597</td>\n",
       "      <td>-0.094597</td>\n",
       "    </tr>\n",
       "    <tr>\n",
       "      <th>num_schools</th>\n",
       "      <td>0.094456</td>\n",
       "      <td>-0.094456</td>\n",
       "    </tr>\n",
       "    <tr>\n",
       "      <th>r_lunch_reduced</th>\n",
       "      <td>0.094145</td>\n",
       "      <td>-0.094145</td>\n",
       "    </tr>\n",
       "    <tr>\n",
       "      <th>num_students</th>\n",
       "      <td>0.080523</td>\n",
       "      <td>-0.080523</td>\n",
       "    </tr>\n",
       "    <tr>\n",
       "      <th>i_fin_sdlc_elem_sec</th>\n",
       "      <td>0.077957</td>\n",
       "      <td>-0.077957</td>\n",
       "    </tr>\n",
       "    <tr>\n",
       "      <th>tcursalary_pp</th>\n",
       "      <td>0.076917</td>\n",
       "      <td>0.076917</td>\n",
       "    </tr>\n",
       "    <tr>\n",
       "      <th>r_stud_PKK</th>\n",
       "      <td>0.075947</td>\n",
       "      <td>-0.075947</td>\n",
       "    </tr>\n",
       "    <tr>\n",
       "      <th>tcurelsc_pp</th>\n",
       "      <td>0.075150</td>\n",
       "      <td>0.075150</td>\n",
       "    </tr>\n",
       "  </tbody>\n",
       "</table>\n",
       "</div>"
      ],
      "text/plain": [
       "                      abscorr      corr\n",
       "feature                                \n",
       "r_lunch_free         0.300986 -0.300986\n",
       "tlocrev_percent      0.219284  0.219284\n",
       "r_stud_18            0.215640 -0.215640\n",
       "r_stud_912           0.213236  0.213236\n",
       "tfedrev_percent      0.195283 -0.195283\n",
       "tlocrev_pp           0.179521  0.179521\n",
       "tsrev_percent        0.166873 -0.166873\n",
       "r_frev_dis           0.166860  0.166860\n",
       "r_frev_title1        0.154755 -0.154755\n",
       "r_frev_cna           0.136677 -0.136677\n",
       "r_srev_sep           0.123350  0.123350\n",
       "i_ucl_suburb_large   0.116087  0.116087\n",
       "tcuroth_percent      0.113994 -0.113994\n",
       "r_srev_gfa           0.110739 -0.110739\n",
       "r_ELL                0.104733 -0.104733\n",
       "tcurinst_pp          0.097023  0.097023\n",
       "instexp_pp           0.097023  0.097023\n",
       "num_pub_schools      0.094597 -0.094597\n",
       "num_schools          0.094456 -0.094456\n",
       "r_lunch_reduced      0.094145 -0.094145\n",
       "num_students         0.080523 -0.080523\n",
       "i_fin_sdlc_elem_sec  0.077957 -0.077957\n",
       "tcursalary_pp        0.076917  0.076917\n",
       "r_stud_PKK           0.075947 -0.075947\n",
       "tcurelsc_pp          0.075150  0.075150"
      ]
     },
     "execution_count": 17,
     "metadata": {},
     "output_type": "execute_result"
    }
   ],
   "source": [
    "#CITATION: From HW3\n",
    "\n",
    "correlations=[]\n",
    "dftousetrain=dftouse[mask]\n",
    "for col in lcols:\n",
    "    r=pearsonr(dftousetrain[col], dftousetrain['RESP_High_Graduation'])[0]\n",
    "    correlations.append(dict(feature=col,corr=r, abscorr=np.abs(r)))\n",
    "\n",
    "bpdf=pd.DataFrame(correlations).sort('abscorr', ascending=False)\n",
    "bpdf.set_index(['feature'], inplace=True)\n",
    "bpdf.head(25)"
   ]
  },
  {
   "cell_type": "code",
   "execution_count": 18,
   "metadata": {
    "collapsed": true
   },
   "outputs": [],
   "source": [
    "#CITATION: From HW3\n",
    "from sklearn import feature_selection\n",
    "from sklearn.pipeline import Pipeline\n",
    "from sklearn.feature_selection import SelectKBest"
   ]
  },
  {
   "cell_type": "code",
   "execution_count": 19,
   "metadata": {
    "collapsed": true
   },
   "outputs": [],
   "source": [
    "#CITATION: From HW3\n",
    "def pearson_scorer(X,y):\n",
    "    rs=np.zeros(X.shape[1])\n",
    "    pvals=np.zeros(X.shape[1])\n",
    "    i=0\n",
    "    for v in X.T:\n",
    "        rs[i], pvals[i]=pearsonr(v, y)\n",
    "        i=i+1\n",
    "    return np.abs(rs), pvals    "
   ]
  },
  {
   "cell_type": "code",
   "execution_count": 21,
   "metadata": {
    "collapsed": true
   },
   "outputs": [],
   "source": [
    "#CITATION: From HW3\n",
    "from sklearn.svm import LinearSVC"
   ]
  },
  {
   "cell_type": "code",
   "execution_count": 22,
   "metadata": {
    "collapsed": false
   },
   "outputs": [],
   "source": [
    "#CITATION: From HW3\n",
    "selectorlinearsvm = SelectKBest(k=25, score_func=pearson_scorer)\n",
    "pipelinearsvm = Pipeline([('select', selectorlinearsvm), ('svm', LinearSVC(loss=\"hinge\"))])"
   ]
  },
  {
   "cell_type": "code",
   "execution_count": 28,
   "metadata": {
    "collapsed": false
   },
   "outputs": [
    {
     "name": "stdout",
     "output_type": "stream",
     "text": [
      "using mask\n",
      "BEST {'svm__C': 1.0} 0.761955225858 [mean: 0.75162, std: 0.01238, params: {'svm__C': 1e-05}, mean: 0.75348, std: 0.00289, params: {'svm__C': 0.001}, mean: 0.75599, std: 0.00278, params: {'svm__C': 0.01}, mean: 0.75891, std: 0.00513, params: {'svm__C': 0.1}, mean: 0.76196, std: 0.00542, params: {'svm__C': 1.0}, mean: 0.75758, std: 0.00536, params: {'svm__C': 10.0}, mean: 0.74606, std: 0.01885, params: {'svm__C': 100.0}]\n",
      "############# based on standard predict ################\n",
      "Accuracy on training data: 0.76\n",
      "Accuracy on test data:     0.76\n",
      "[[2399   23]\n",
      " [ 755   59]]\n",
      "########################################################\n",
      "CPU times: user 9.17 s, sys: 110 ms, total: 9.28 s\n",
      "Wall time: 9.35 s\n"
     ]
    },
    {
     "name": "stderr",
     "output_type": "stream",
     "text": [
      "/Users/ChaserAcer/anaconda/lib/python2.7/site-packages/ipykernel/__main__.py:7: FutureWarning: comparison to `None` will result in an elementwise object comparison in the future.\n"
     ]
    }
   ],
   "source": [
    "%%time\n",
    "pipelinearsvm, Xtrain, ytrain, Xtest, ytest  = do_classify(pipelinearsvm, {\"svm__C\": [0.00001, 0.001, 0.01, 0.1, 1.0, 10.0, 100.0]}, dftouse,lcols, 'RESP_High_Graduation',1, mask=mask)\n",
    "#CITATION: From HW3"
   ]
  },
  {
   "cell_type": "code",
   "execution_count": 29,
   "metadata": {
    "collapsed": false
   },
   "outputs": [
    {
     "data": {
      "text/plain": [
       "array(['num_students', 'num_schools', 'num_pub_schools', 'tlocrev_pp',\n",
       "       'tcurinst_pp', 'tcursalary_pp', 'tcurelsc_pp', 'instexp_pp',\n",
       "       'tcuroth_percent', 'tfedrev_percent', 'tlocrev_percent',\n",
       "       'tsrev_percent', 'r_ELL', 'r_lunch_free', 'r_lunch_reduced',\n",
       "       'r_stud_PKK', 'r_stud_18', 'r_stud_912', 'r_srev_gfa', 'r_srev_sep',\n",
       "       'r_frev_title1', 'r_frev_dis', 'r_frev_cna', 'i_fin_sdlc_elem_sec',\n",
       "       'i_ucl_suburb_large'], \n",
       "      dtype='|S45')"
      ]
     },
     "execution_count": 29,
     "metadata": {},
     "output_type": "execute_result"
    }
   ],
   "source": [
    "#CITATION: From HW3\n",
    "np.array(lcols)[pipelinearsvm.get_params()['select'].get_support()]"
   ]
  },
  {
   "cell_type": "code",
   "execution_count": 30,
   "metadata": {
    "collapsed": true
   },
   "outputs": [],
   "source": [
    "#CITATION: From HW3\n",
    "from sklearn.metrics import roc_curve, auc\n",
    "def make_roc(name, clf, ytest, xtest, ax=None, labe=5, proba=True, skip=0):\n",
    "    initial=False\n",
    "    if not ax:\n",
    "        ax=plt.gca()\n",
    "        initial=True\n",
    "    if proba:#for stuff like logistic regression\n",
    "        fpr, tpr, thresholds=roc_curve(ytest, clf.predict_proba(xtest)[:,1])\n",
    "    else:#for stuff like SVM\n",
    "        fpr, tpr, thresholds=roc_curve(ytest, clf.decision_function(xtest))\n",
    "    roc_auc = auc(fpr, tpr)\n",
    "    if skip:\n",
    "        l=fpr.shape[0]\n",
    "        ax.plot(fpr[0:l:skip], tpr[0:l:skip], '.-', alpha=0.3, label='ROC curve for %s (area = %0.2f)' % (name, roc_auc))\n",
    "    else:\n",
    "        ax.plot(fpr, tpr, '.-', alpha=0.3, label='ROC curve for %s (area = %0.2f)' % (name, roc_auc))\n",
    "    label_kwargs = {}\n",
    "    label_kwargs['bbox'] = dict(\n",
    "        boxstyle='round,pad=0.3', alpha=0.2,\n",
    "    )\n",
    "    if labe!=None:\n",
    "        for k in xrange(0, fpr.shape[0],labe):\n",
    "            #from https://gist.github.com/podshumok/c1d1c9394335d86255b8\n",
    "            threshold = str(np.round(thresholds[k], 2))\n",
    "            ax.annotate(threshold, (fpr[k], tpr[k]), **label_kwargs)\n",
    "    if initial:\n",
    "        ax.plot([0, 1], [0, 1], 'k--')\n",
    "        ax.set_xlim([0.0, 1.0])\n",
    "        ax.set_ylim([0.0, 1.05])\n",
    "        ax.set_xlabel('False Positive Rate')\n",
    "        ax.set_ylabel('True Positive Rate')\n",
    "        ax.set_title('ROC')\n",
    "    ax.legend(loc=\"lower right\")\n",
    "    return ax"
   ]
  },
  {
   "cell_type": "code",
   "execution_count": 32,
   "metadata": {
    "collapsed": false
   },
   "outputs": [
    {
     "data": {
      "image/png": "[encoded data removed]",
      "text/plain": [
       "<matplotlib.figure.Figure at 0x110a7a450>"
      ]
     },
     "metadata": {},
     "output_type": "display_data"
    }
   ],
   "source": [
    "#CITATION: From HW3\n",
    "with sns.color_palette(\"dark\"):\n",
    "    ax=make_roc(\"svm-feature-selected\",pipelinearsvm, ytest, Xtest, labe=200, skip=50, proba=False)"
   ]
  },
  {
   "cell_type": "markdown",
   "metadata": {},
   "source": [
    "##### Low Graduation - No Gender/Ethnicity"
   ]
  },
  {
   "cell_type": "code",
   "execution_count": 33,
   "metadata": {
    "collapsed": true
   },
   "outputs": [],
   "source": [
    "Xmatrix=dftouse[lcols].values\n",
    "Yresp=dftouse['RESP_Low_Graduation'].values"
   ]
  },
  {
   "cell_type": "code",
   "execution_count": 34,
   "metadata": {
    "collapsed": false
   },
   "outputs": [
    {
     "data": {
      "text/html": [
       "<div>\n",
       "<table border=\"1\" class=\"dataframe\">\n",
       "  <thead>\n",
       "    <tr style=\"text-align: right;\">\n",
       "      <th></th>\n",
       "      <th>abscorr</th>\n",
       "      <th>corr</th>\n",
       "    </tr>\n",
       "    <tr>\n",
       "      <th>feature</th>\n",
       "      <th></th>\n",
       "      <th></th>\n",
       "    </tr>\n",
       "  </thead>\n",
       "  <tbody>\n",
       "    <tr>\n",
       "      <th>r_lunch_free</th>\n",
       "      <td>0.431374</td>\n",
       "      <td>0.431374</td>\n",
       "    </tr>\n",
       "    <tr>\n",
       "      <th>tfedrev_percent</th>\n",
       "      <td>0.309397</td>\n",
       "      <td>0.309397</td>\n",
       "    </tr>\n",
       "    <tr>\n",
       "      <th>tlocrev_percent</th>\n",
       "      <td>0.250340</td>\n",
       "      <td>-0.250340</td>\n",
       "    </tr>\n",
       "    <tr>\n",
       "      <th>tcurinst_percent</th>\n",
       "      <td>0.174324</td>\n",
       "      <td>-0.174324</td>\n",
       "    </tr>\n",
       "    <tr>\n",
       "      <th>r_frev_title1</th>\n",
       "      <td>0.170846</td>\n",
       "      <td>0.170846</td>\n",
       "    </tr>\n",
       "    <tr>\n",
       "      <th>r_ELL</th>\n",
       "      <td>0.162813</td>\n",
       "      <td>0.162813</td>\n",
       "    </tr>\n",
       "    <tr>\n",
       "      <th>tfedrev_pp</th>\n",
       "      <td>0.156278</td>\n",
       "      <td>0.156278</td>\n",
       "    </tr>\n",
       "    <tr>\n",
       "      <th>tsrev_percent</th>\n",
       "      <td>0.152960</td>\n",
       "      <td>0.152960</td>\n",
       "    </tr>\n",
       "    <tr>\n",
       "      <th>tcurssvc_percent</th>\n",
       "      <td>0.144028</td>\n",
       "      <td>0.144028</td>\n",
       "    </tr>\n",
       "    <tr>\n",
       "      <th>r_lrev_gst</th>\n",
       "      <td>0.141805</td>\n",
       "      <td>0.141805</td>\n",
       "    </tr>\n",
       "    <tr>\n",
       "      <th>tlocrev_pp</th>\n",
       "      <td>0.133834</td>\n",
       "      <td>-0.133834</td>\n",
       "    </tr>\n",
       "    <tr>\n",
       "      <th>r_frev_dis</th>\n",
       "      <td>0.131028</td>\n",
       "      <td>-0.131028</td>\n",
       "    </tr>\n",
       "    <tr>\n",
       "      <th>i_cs_all_noncharter</th>\n",
       "      <td>0.130854</td>\n",
       "      <td>-0.130854</td>\n",
       "    </tr>\n",
       "    <tr>\n",
       "      <th>num_pub_schools</th>\n",
       "      <td>0.130399</td>\n",
       "      <td>0.130399</td>\n",
       "    </tr>\n",
       "    <tr>\n",
       "      <th>num_schools</th>\n",
       "      <td>0.130182</td>\n",
       "      <td>0.130182</td>\n",
       "    </tr>\n",
       "    <tr>\n",
       "      <th>r_lrev_molr</th>\n",
       "      <td>0.126038</td>\n",
       "      <td>0.126038</td>\n",
       "    </tr>\n",
       "    <tr>\n",
       "      <th>i_ucl_city_large</th>\n",
       "      <td>0.126009</td>\n",
       "      <td>0.126009</td>\n",
       "    </tr>\n",
       "    <tr>\n",
       "      <th>i_agency_type_charter_school_agency</th>\n",
       "      <td>0.120099</td>\n",
       "      <td>0.120099</td>\n",
       "    </tr>\n",
       "    <tr>\n",
       "      <th>i_cs_all_charter</th>\n",
       "      <td>0.120099</td>\n",
       "      <td>0.120099</td>\n",
       "    </tr>\n",
       "    <tr>\n",
       "      <th>tsrev_pp</th>\n",
       "      <td>0.119239</td>\n",
       "      <td>0.119239</td>\n",
       "    </tr>\n",
       "    <tr>\n",
       "      <th>r_srev_cbsp</th>\n",
       "      <td>0.117289</td>\n",
       "      <td>0.117289</td>\n",
       "    </tr>\n",
       "    <tr>\n",
       "      <th>num_students</th>\n",
       "      <td>0.106727</td>\n",
       "      <td>0.106727</td>\n",
       "    </tr>\n",
       "    <tr>\n",
       "      <th>i_agency_type_local_school_district</th>\n",
       "      <td>0.100594</td>\n",
       "      <td>-0.100594</td>\n",
       "    </tr>\n",
       "    <tr>\n",
       "      <th>r_lrev_it</th>\n",
       "      <td>0.099386</td>\n",
       "      <td>-0.099386</td>\n",
       "    </tr>\n",
       "    <tr>\n",
       "      <th>tcuroth_percent</th>\n",
       "      <td>0.097678</td>\n",
       "      <td>0.097678</td>\n",
       "    </tr>\n",
       "  </tbody>\n",
       "</table>\n",
       "</div>"
      ],
      "text/plain": [
       "                                      abscorr      corr\n",
       "feature                                                \n",
       "r_lunch_free                         0.431374  0.431374\n",
       "tfedrev_percent                      0.309397  0.309397\n",
       "tlocrev_percent                      0.250340 -0.250340\n",
       "tcurinst_percent                     0.174324 -0.174324\n",
       "r_frev_title1                        0.170846  0.170846\n",
       "r_ELL                                0.162813  0.162813\n",
       "tfedrev_pp                           0.156278  0.156278\n",
       "tsrev_percent                        0.152960  0.152960\n",
       "tcurssvc_percent                     0.144028  0.144028\n",
       "r_lrev_gst                           0.141805  0.141805\n",
       "tlocrev_pp                           0.133834 -0.133834\n",
       "r_frev_dis                           0.131028 -0.131028\n",
       "i_cs_all_noncharter                  0.130854 -0.130854\n",
       "num_pub_schools                      0.130399  0.130399\n",
       "num_schools                          0.130182  0.130182\n",
       "r_lrev_molr                          0.126038  0.126038\n",
       "i_ucl_city_large                     0.126009  0.126009\n",
       "i_agency_type_charter_school_agency  0.120099  0.120099\n",
       "i_cs_all_charter                     0.120099  0.120099\n",
       "tsrev_pp                             0.119239  0.119239\n",
       "r_srev_cbsp                          0.117289  0.117289\n",
       "num_students                         0.106727  0.106727\n",
       "i_agency_type_local_school_district  0.100594 -0.100594\n",
       "r_lrev_it                            0.099386 -0.099386\n",
       "tcuroth_percent                      0.097678  0.097678"
      ]
     },
     "execution_count": 34,
     "metadata": {},
     "output_type": "execute_result"
    }
   ],
   "source": [
    "#CITATION: From HW3\n",
    "correlations=[]\n",
    "dftousetrain=dftouse[mask]\n",
    "for col in lcols:\n",
    "    r=pearsonr(dftousetrain[col], dftousetrain['RESP_Low_Graduation'])[0]\n",
    "    correlations.append(dict(feature=col,corr=r, abscorr=np.abs(r)))\n",
    "\n",
    "bpdf=pd.DataFrame(correlations).sort('abscorr', ascending=False)\n",
    "bpdf.set_index(['feature'], inplace=True)\n",
    "bpdf.head(25)"
   ]
  },
  {
   "cell_type": "code",
   "execution_count": 35,
   "metadata": {
    "collapsed": true
   },
   "outputs": [],
   "source": [
    "#CITATION: From HW3\n",
    "selectorlinearsvm = SelectKBest(k=25, score_func=pearson_scorer)\n",
    "pipelinearsvm = Pipeline([('select', selectorlinearsvm), ('svm', LinearSVC(loss=\"hinge\"))])"
   ]
  },
  {
   "cell_type": "code",
   "execution_count": 37,
   "metadata": {
    "collapsed": false
   },
   "outputs": [
    {
     "name": "stdout",
     "output_type": "stream",
     "text": [
      "using mask\n",
      "BEST {'svm__C': 1.0} 0.792820241092 [mean: 0.78169, std: 0.00786, params: {'svm__C': 1e-05}, mean: 0.78050, std: 0.00383, params: {'svm__C': 0.001}, mean: 0.79176, std: 0.00184, params: {'svm__C': 0.01}, mean: 0.79216, std: 0.00221, params: {'svm__C': 0.1}, mean: 0.79282, std: 0.00218, params: {'svm__C': 1.0}, mean: 0.79176, std: 0.00391, params: {'svm__C': 10.0}, mean: 0.76858, std: 0.01030, params: {'svm__C': 100.0}]\n",
      "############# based on standard predict ################\n",
      "Accuracy on training data: 0.79\n",
      "Accuracy on test data:     0.78\n",
      "[[2327   88]\n",
      " [ 617  204]]\n",
      "########################################################\n",
      "CPU times: user 8.27 s, sys: 138 ms, total: 8.4 s\n",
      "Wall time: 8.54 s\n"
     ]
    },
    {
     "name": "stderr",
     "output_type": "stream",
     "text": [
      "/Users/ChaserAcer/anaconda/lib/python2.7/site-packages/ipykernel/__main__.py:7: FutureWarning: comparison to `None` will result in an elementwise object comparison in the future.\n"
     ]
    }
   ],
   "source": [
    "%%time\n",
    "pipelinearsvm, Xtrain, ytrain, Xtest, ytest  = do_classify(pipelinearsvm, {\"svm__C\": [0.00001, 0.001, 0.01, 0.1, 1.0, 10.0, 100.0]}, dftouse,lcols, 'RESP_Low_Graduation',1, mask=mask)\n",
    "#CITATION: From HW3"
   ]
  },
  {
   "cell_type": "code",
   "execution_count": 38,
   "metadata": {
    "collapsed": false
   },
   "outputs": [
    {
     "data": {
      "text/plain": [
       "array(['num_students', 'num_schools', 'num_pub_schools', 'tlocrev_pp',\n",
       "       'tsrev_pp', 'tfedrev_pp', 'tcurinst_percent', 'tcuroth_percent',\n",
       "       'tcurssvc_percent', 'tfedrev_percent', 'tlocrev_percent',\n",
       "       'tsrev_percent', 'r_ELL', 'r_lunch_free', 'r_lrev_gst', 'r_lrev_it',\n",
       "       'r_lrev_molr', 'r_srev_cbsp', 'r_frev_title1', 'r_frev_dis',\n",
       "       'i_agency_type_local_school_district',\n",
       "       'i_agency_type_charter_school_agency', 'i_ucl_city_large',\n",
       "       'i_cs_all_charter', 'i_cs_all_noncharter'], \n",
       "      dtype='|S45')"
      ]
     },
     "execution_count": 38,
     "metadata": {},
     "output_type": "execute_result"
    }
   ],
   "source": [
    "#CITATION: From HW3\n",
    "np.array(lcols)[pipelinearsvm.get_params()['select'].get_support()]"
   ]
  },
  {
   "cell_type": "code",
   "execution_count": 39,
   "metadata": {
    "collapsed": false
   },
   "outputs": [
    {
     "data": {
      "image/png": "[encoded data removed]",
      "text/plain": [
       "<matplotlib.figure.Figure at 0x110d7ebd0>"
      ]
     },
     "metadata": {},
     "output_type": "display_data"
    }
   ],
   "source": [
    "with sns.color_palette(\"dark\"):\n",
    "    ax=make_roc(\"svm-feature-selected\",pipelinearsvm, ytest, Xtest, labe=200, skip=50, proba=False)"
   ]
  }
 ],
 "metadata": {
  "kernelspec": {
   "display_name": "Python 2",
   "language": "python",
   "name": "python2"
  },
  "language_info": {
   "codemirror_mode": {
    "name": "ipython",
    "version": 2
   },
   "file_extension": ".py",
   "mimetype": "text/x-python",
   "name": "python",
   "nbconvert_exporter": "python",
   "pygments_lexer": "ipython2",
   "version": "2.7.10"
  }
 },
 "nbformat": 4,
 "nbformat_minor": 0
}
