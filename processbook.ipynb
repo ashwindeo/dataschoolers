{
 "cells": [
  {
   "cell_type": "markdown",
   "metadata": {},
   "source": [
    "# Data Cleaning - Schools\n",
    "\n",
    "This is the process book that covers how we loaded and cleaned the schools data for the year 2009-2010.  We use the schools data in the visualization.\n",
    "\n",
    "We did not use the schools data in our models because graduation rate data is not available nationwide at the school level.  We found invidual states or cities that made graduation rate data publically available, yet it would have been too time consuming to download from many different places."
   ]
  },
  {
   "cell_type": "markdown",
   "metadata": {},
   "source": [
    "Start with the standard imports we have used for every notebook in this class."
   ]
  },
  {
   "cell_type": "code",
   "execution_count": 45,
   "metadata": {
    "collapsed": true
   },
   "outputs": [],
   "source": [
    "%matplotlib inline\n",
    "import numpy as np\n",
    "import scipy as sp\n",
    "import matplotlib as mpl\n",
    "import matplotlib.cm as cm\n",
    "import matplotlib.pyplot as plt\n",
    "import pandas as pd\n",
    "pd.set_option('display.width', 500)\n",
    "pd.set_option('display.max_columns', 100)\n",
    "pd.set_option('display.notebook_repr_html', True)\n",
    "import seaborn as sns\n",
    "sns.set_style(\"whitegrid\")\n",
    "sns.set_context(\"poster\")"
   ]
  },
  {
   "cell_type": "markdown",
   "metadata": {},
   "source": [
    "Each of the datasheets downloaded from ELSI had download metadata on the top of them and total and key information on the bottom of them that were not data rows.  This metadata, total, and key information was manually deleted before import.  Some of the files had =\"0\" instead of 0 in the cells.  This was found/replaced before import using the sed -i '' 's/=\"0\"/0/g' *.csv command from the terminal."
   ]
  },
  {
   "cell_type": "code",
   "execution_count": 46,
   "metadata": {
    "collapsed": false
   },
   "outputs": [],
   "source": [
    "#CITATION: This is the data from National Center for Education Statistics on Schools\n",
    "#Schools for all 50 states and Washington, D.C.\n",
    "#http://nces.ed.gov/ccd/elsi/\n",
    "#ELSI Root Data Source: U.S. Department of Education National Center for Education Statistics Common Core of Data (CCD) \"Public Elementary/Secondary School Universe Survey\" 2012-13 v.1a  2013-14 v.1a.\n",
    "#KEY:\n",
    "#† indicates that the data are not applicable.\n",
    "#– indicates that the data are missing.\n",
    "#‡ indicates that the data do not meet NCES data quality standards.\n",
    "\n",
    "schoolinformation = pd.read_csv(\"data/rawdata/schools/2009-2010 SCHOOL Information Tab.csv\", dtype=np.str)\n",
    "schoolcharacteristicsa = pd.read_csv(\"data/rawdata/schools/2009-2010 SCHOOL CharacteristicsA Tab.csv\", dtype=np.str)\n",
    "schoolcharacteristicsb = pd.read_csv(\"data/rawdata/schools/2009-2010 SCHOOL CharacteristicsB Tab.csv\", dtype=np.str)\n",
    "schoolenrollment = pd.read_csv(\"data/rawdata/schools/2009-2010 SCHOOL Enrollments Tab.csv\", dtype=np.str)\n",
    "schoolenrollmentdetails = pd.read_csv(\"data/rawdata/schools/2009-2010 SCHOOL Enrollment Details Tab.csv\", dtype=np.str)\n",
    "#schoolenrollmentK3 = pd.read_csv(\"tempdata/2013-2014 SCHOOL Enrollment by Grade, Race-Ethnicity, and Gender Tab PreK-3.csv\", dtype=np.str)\n",
    "#schoolenrollment48 = pd.read_csv(\"tempdata/2013-2014 SCHOOL Enrollment by Grade, Race-Ethnicity and Gender Tab 4-8.csv\", dtype=np.str)\n",
    "#schoolenrollment912 = pd.read_csv(\"tempdata/2013-2014 SCHOOL Enrollment by Grade, Race-Ethnicity and Gender Tab 9-Ungraded.csv\", dtype=np.str)\n",
    "schoolteacherstaff = pd.read_csv(\"data/rawdata/schools/2009-2010 SCHOOL Teacher and Staff Tab.csv\", dtype=np.str)"
   ]
  },
  {
   "cell_type": "markdown",
   "metadata": {},
   "source": [
    "Check the lengths of the datasets to see if we have a row for every school."
   ]
  },
  {
   "cell_type": "code",
   "execution_count": 47,
   "metadata": {
    "collapsed": false
   },
   "outputs": [
    {
     "name": "stdout",
     "output_type": "stream",
     "text": [
      "106634\n",
      "99804\n",
      "99804\n",
      "99804\n",
      "99804\n",
      "99804\n"
     ]
    }
   ],
   "source": [
    "print len(schoolinformation)\n",
    "print len(schoolcharacteristicsa)\n",
    "print len(schoolcharacteristicsb)\n",
    "print len(schoolenrollment)\n",
    "print len(schoolenrollmentdetails)\n",
    "#print len(schoolenrollmentK3)\n",
    "#print len(schoolenrollment48)\n",
    "#print len(schoolenrollment912)\n",
    "print len(schoolteacherstaff)"
   ]
  },
  {
   "cell_type": "markdown",
   "metadata": {},
   "source": [
    "Drop all of the duplicate columns."
   ]
  },
  {
   "cell_type": "code",
   "execution_count": 49,
   "metadata": {
    "collapsed": false
   },
   "outputs": [],
   "source": [
    "schoolcharacteristicsa = schoolcharacteristicsa.drop(schoolcharacteristicsa.columns[[0, 1, 20]], 1)\n",
    "schoolcharacteristicsb = schoolcharacteristicsb.drop(schoolcharacteristicsb.columns[[0, 1]], 1)\n",
    "schoolenrollment = schoolenrollment.drop(schoolenrollment.columns[[0, 1]], 1)\n",
    "schoolenrollmentdetails = schoolenrollmentdetails.drop(schoolenrollmentdetails.columns[[0, 1]], 1)\n",
    "#schoolenrollmentK3 = schoolenrollmentK3.drop(schoolenrollmentK3.columns[[0, 1]], 1)\n",
    "#schoolenrollment48 = schoolenrollment48.drop(schoolenrollment48.columns[[0, 1]], 1)\n",
    "#schoolenrollment912 = schoolenrollment912.drop(schoolenrollment912.columns[[0, 1, 72]], 1)"
   ]
  },
  {
   "cell_type": "code",
   "execution_count": 50,
   "metadata": {
    "collapsed": false
   },
   "outputs": [
    {
     "data": {
      "text/html": [
       "<div>\n",
       "<table border=\"1\" class=\"dataframe\">\n",
       "  <thead>\n",
       "    <tr style=\"text-align: right;\">\n",
       "      <th></th>\n",
       "      <th>﻿School Name</th>\n",
       "      <th>State Name [Public School] Latest available year</th>\n",
       "      <th>State Name [Public School] 2009-10</th>\n",
       "      <th>State Abbr [Public School] Latest available year</th>\n",
       "      <th>School Name [Public School] 2009-10</th>\n",
       "      <th>School ID - NCES Assigned [Public School] Latest available year</th>\n",
       "      <th>Agency Name [Public School] 2009-10</th>\n",
       "      <th>Agency ID - NCES Assigned [Public School] Latest available year</th>\n",
       "      <th>County Name [Public School] 2009-10</th>\n",
       "      <th>County Number [Public School] 2009-10</th>\n",
       "      <th>Race/Ethnicity Category [Public School] 2009-10</th>\n",
       "      <th>ANSI/FIPS State Code [Public School] Latest available year</th>\n",
       "      <th>Years School Reported Data [Public School] Latest available year</th>\n",
       "      <th>Years School Did Not Report Data [Public School] Latest available year</th>\n",
       "      <th>Location Address [Public School] 2013-14</th>\n",
       "      <th>Location City [Public School] 2013-14</th>\n",
       "      <th>Location State Abbr [Public School] 2013-14</th>\n",
       "      <th>Location ZIP [Public School] 2013-14</th>\n",
       "      <th>Location ZIP4 [Public School] 2013-14</th>\n",
       "      <th>Mailing Address [Public School] 2013-14</th>\n",
       "      <th>Mailing City [Public School] 2013-14</th>\n",
       "      <th>Mailing State Abbr [Public School] 2013-14</th>\n",
       "      <th>Mailing ZIP [Public School] 2013-14</th>\n",
       "      <th>Mailing ZIP4 [Public School] 2013-14</th>\n",
       "      <th>Phone Number [Public School] 2013-14</th>\n",
       "    </tr>\n",
       "  </thead>\n",
       "  <tbody>\n",
       "    <tr>\n",
       "      <th>0</th>\n",
       "      <td>EDWARD \"DUKE\" ELLINGTON @ BECKHAM</td>\n",
       "      <td>Michigan</td>\n",
       "      <td>Michigan</td>\n",
       "      <td>MI</td>\n",
       "      <td>EDWARD (DUKE) ELLINGTON CONSERVATORY OF MUSIC/ART</td>\n",
       "      <td>261200004838</td>\n",
       "      <td>DETROIT CITY SCHOOL DISTRICT</td>\n",
       "      <td>2612000</td>\n",
       "      <td>WAYNE COUNTY</td>\n",
       "      <td>26163</td>\n",
       "      <td>Reported 5 categories</td>\n",
       "      <td>26</td>\n",
       "      <td>1986-2013</td>\n",
       "      <td>NaN</td>\n",
       "      <td>9860 PARK DR</td>\n",
       "      <td>DETROIT</td>\n",
       "      <td>MI</td>\n",
       "      <td>48213</td>\n",
       "      <td>7102</td>\n",
       "      <td>9860 PARK DRIVE</td>\n",
       "      <td>DETROIT</td>\n",
       "      <td>MI</td>\n",
       "      <td>48213</td>\n",
       "      <td>7102</td>\n",
       "      <td>3138528500</td>\n",
       "    </tr>\n",
       "    <tr>\n",
       "      <th>1</th>\n",
       "      <td>J.M. \"CHICK\" BUCKBEE JUVENILE CENTER</td>\n",
       "      <td>West Virginia</td>\n",
       "      <td>West Virginia</td>\n",
       "      <td>WV</td>\n",
       "      <td>J.M. \"CHICK\" BUCKBEE JUVENILE CENTER</td>\n",
       "      <td>540051101159</td>\n",
       "      <td>INSTITUTIONAL EDUCATIONAL PROGRAMS</td>\n",
       "      <td>5400511</td>\n",
       "      <td>HAMPSHIRE COUNTY</td>\n",
       "      <td>54027</td>\n",
       "      <td>Reported 7 categories</td>\n",
       "      <td>54</td>\n",
       "      <td>2003-2013</td>\n",
       "      <td>1986-2002</td>\n",
       "      <td>1 JERRY LN</td>\n",
       "      <td>AUGUSTA</td>\n",
       "      <td>WV</td>\n",
       "      <td>26704</td>\n",
       "      <td>†</td>\n",
       "      <td>#1 JERRY LANE</td>\n",
       "      <td>AUGUSTA</td>\n",
       "      <td>WV</td>\n",
       "      <td>26704</td>\n",
       "      <td>†</td>\n",
       "      <td>3044961369</td>\n",
       "    </tr>\n",
       "    <tr>\n",
       "      <th>2</th>\n",
       "      <td>JAMES H. \"TIGER\" MORTON JUVENILE CENTER</td>\n",
       "      <td>West Virginia</td>\n",
       "      <td>West Virginia</td>\n",
       "      <td>WV</td>\n",
       "      <td>JAMES H. \"TIGER\" MORTON JUVENILE CENTER</td>\n",
       "      <td>540051101146</td>\n",
       "      <td>INSTITUTIONAL EDUCATIONAL PROGRAMS</td>\n",
       "      <td>5400511</td>\n",
       "      <td>KANAWHA COUNTY</td>\n",
       "      <td>54039</td>\n",
       "      <td>Reported 7 categories</td>\n",
       "      <td>54</td>\n",
       "      <td>2003-2013</td>\n",
       "      <td>1986-2002</td>\n",
       "      <td>60 MANFRED HOLLAND WAY</td>\n",
       "      <td>DUNBAR</td>\n",
       "      <td>WV</td>\n",
       "      <td>25064</td>\n",
       "      <td>†</td>\n",
       "      <td>60 MANFRED HOLLAND WAY</td>\n",
       "      <td>DUNBAR</td>\n",
       "      <td>WV</td>\n",
       "      <td>25064</td>\n",
       "      <td>†</td>\n",
       "      <td>3047663502</td>\n",
       "    </tr>\n",
       "    <tr>\n",
       "      <th>3</th>\n",
       "      <td>MARY HARRIS \"MOTHER\" JONES ELEMENTARY</td>\n",
       "      <td>Maryland</td>\n",
       "      <td>Maryland</td>\n",
       "      <td>MD</td>\n",
       "      <td>MARY HARRIS \"MOTHER\" JONES ELEMENTARY</td>\n",
       "      <td>240051001257</td>\n",
       "      <td>PRINCE GEORGE'S COUNTY PUBLIC SCHOOLS</td>\n",
       "      <td>2400510</td>\n",
       "      <td>PRINCE GEORGE'S COUNTY</td>\n",
       "      <td>24033</td>\n",
       "      <td>Reported 5 categories</td>\n",
       "      <td>24</td>\n",
       "      <td>2002-2013</td>\n",
       "      <td>1986-2001</td>\n",
       "      <td>2405 TECUMSEH ST</td>\n",
       "      <td>ADELPHI</td>\n",
       "      <td>MD</td>\n",
       "      <td>20783</td>\n",
       "      <td>1658</td>\n",
       "      <td>2405 TECUMSEH ST</td>\n",
       "      <td>ADELPHI</td>\n",
       "      <td>MD</td>\n",
       "      <td>20783</td>\n",
       "      <td>1658</td>\n",
       "      <td>3014087900</td>\n",
       "    </tr>\n",
       "    <tr>\n",
       "      <th>4</th>\n",
       "      <td>PEMAYETV EMAHAKV CHARTER \"OUR WAY SCHOOL\"</td>\n",
       "      <td>Florida</td>\n",
       "      <td>Florida</td>\n",
       "      <td>FL</td>\n",
       "      <td>PEMAYETV EMAHAKV \"OUR WAY SCHOOL\"</td>\n",
       "      <td>120066004849</td>\n",
       "      <td>GLADES</td>\n",
       "      <td>1200660</td>\n",
       "      <td>GLADES COUNTY</td>\n",
       "      <td>12043</td>\n",
       "      <td>Reported 5 categories</td>\n",
       "      <td>12</td>\n",
       "      <td>2006-2013</td>\n",
       "      <td>1986-2005</td>\n",
       "      <td>100 EAST HARNEY POND RD NE</td>\n",
       "      <td>OKEECHOBEE</td>\n",
       "      <td>FL</td>\n",
       "      <td>34974</td>\n",
       "      <td>2867</td>\n",
       "      <td>100 E HARNEY POND RD NE</td>\n",
       "      <td>OKEECHOBEE</td>\n",
       "      <td>FL</td>\n",
       "      <td>34974</td>\n",
       "      <td>2867</td>\n",
       "      <td>8634672501</td>\n",
       "    </tr>\n",
       "  </tbody>\n",
       "</table>\n",
       "</div>"
      ],
      "text/plain": [
       "                                ﻿School Name State Name [Public School] Latest available year State Name [Public School] 2009-10 State Abbr [Public School] Latest available year                School Name [Public School] 2009-10 School ID - NCES Assigned [Public School] Latest available year    Agency Name [Public School] 2009-10 Agency ID - NCES Assigned [Public School] Latest available year County Name [Public School] 2009-10 County Number [Public School] 2009-10  \\\n",
       "0          EDWARD \"DUKE\" ELLINGTON @ BECKHAM                                         Michigan                           Michigan                                              MI   EDWARD (DUKE) ELLINGTON CONSERVATORY OF MUSIC/ART                                       261200004838                        DETROIT CITY SCHOOL DISTRICT                                            2612000                                     WAYNE COUNTY                                 26163   \n",
       "1       J.M. \"CHICK\" BUCKBEE JUVENILE CENTER                                    West Virginia                      West Virginia                                              WV                J.M. \"CHICK\" BUCKBEE JUVENILE CENTER                                       540051101159                  INSTITUTIONAL EDUCATIONAL PROGRAMS                                            5400511                                 HAMPSHIRE COUNTY                                 54027   \n",
       "2    JAMES H. \"TIGER\" MORTON JUVENILE CENTER                                    West Virginia                      West Virginia                                              WV             JAMES H. \"TIGER\" MORTON JUVENILE CENTER                                       540051101146                  INSTITUTIONAL EDUCATIONAL PROGRAMS                                            5400511                                   KANAWHA COUNTY                                 54039   \n",
       "3      MARY HARRIS \"MOTHER\" JONES ELEMENTARY                                         Maryland                           Maryland                                              MD               MARY HARRIS \"MOTHER\" JONES ELEMENTARY                                       240051001257               PRINCE GEORGE'S COUNTY PUBLIC SCHOOLS                                            2400510                           PRINCE GEORGE'S COUNTY                                 24033   \n",
       "4  PEMAYETV EMAHAKV CHARTER \"OUR WAY SCHOOL\"                                          Florida                            Florida                                              FL                   PEMAYETV EMAHAKV \"OUR WAY SCHOOL\"                                       120066004849                                              GLADES                                            1200660                                    GLADES COUNTY                                 12043   \n",
       "\n",
       "  Race/Ethnicity Category [Public School] 2009-10 ANSI/FIPS State Code [Public School] Latest available year Years School Reported Data [Public School] Latest available year Years School Did Not Report Data [Public School] Latest available year Location Address [Public School] 2013-14 Location City [Public School] 2013-14 Location State Abbr [Public School] 2013-14 Location ZIP [Public School] 2013-14 Location ZIP4 [Public School] 2013-14 Mailing Address [Public School] 2013-14  \\\n",
       "0                           Reported 5 categories                                                 26                                                  1986-2013                                                              NaN                                                 9860 PARK DR                               DETROIT                                         MI                                 48213                                  7102                         9860 PARK DRIVE   \n",
       "1                           Reported 7 categories                                                 54                                                  2003-2013                                                        1986-2002                                                   1 JERRY LN                               AUGUSTA                                         WV                                 26704                                     †                           #1 JERRY LANE   \n",
       "2                           Reported 7 categories                                                 54                                                  2003-2013                                                        1986-2002                                       60 MANFRED HOLLAND WAY                                DUNBAR                                         WV                                 25064                                     †                  60 MANFRED HOLLAND WAY   \n",
       "3                           Reported 5 categories                                                 24                                                  2002-2013                                                        1986-2001                                             2405 TECUMSEH ST                               ADELPHI                                         MD                                 20783                                  1658                        2405 TECUMSEH ST   \n",
       "4                           Reported 5 categories                                                 12                                                  2006-2013                                                        1986-2005                                   100 EAST HARNEY POND RD NE                            OKEECHOBEE                                         FL                                 34974                                  2867                 100 E HARNEY POND RD NE   \n",
       "\n",
       "  Mailing City [Public School] 2013-14 Mailing State Abbr [Public School] 2013-14 Mailing ZIP [Public School] 2013-14 Mailing ZIP4 [Public School] 2013-14 Phone Number [Public School] 2013-14  \n",
       "0                              DETROIT                                        MI                                48213                                 7102                           3138528500  \n",
       "1                              AUGUSTA                                        WV                                26704                                    †                           3044961369  \n",
       "2                               DUNBAR                                        WV                                25064                                    †                           3047663502  \n",
       "3                              ADELPHI                                        MD                                20783                                 1658                           3014087900  \n",
       "4                           OKEECHOBEE                                        FL                                34974                                 2867                           8634672501  "
      ]
     },
     "execution_count": 50,
     "metadata": {},
     "output_type": "execute_result"
    }
   ],
   "source": [
    "schoolinformation.head()"
   ]
  },
  {
   "cell_type": "markdown",
   "metadata": {},
   "source": [
    "Join all of the school datasets."
   ]
  },
  {
   "cell_type": "code",
   "execution_count": 51,
   "metadata": {
    "collapsed": false
   },
   "outputs": [],
   "source": [
    "joinedschool = schoolteacherstaff.join([schoolcharacteristicsa, schoolcharacteristicsb, schoolenrollment, schoolenrollmentdetails])"
   ]
  },
  {
   "cell_type": "code",
   "execution_count": 52,
   "metadata": {
    "collapsed": false
   },
   "outputs": [],
   "source": [
    "joinedschool = schoolinformation.merge(joinedschool, 'left', 'School ID - NCES Assigned [Public School] Latest available year', suffixes=('', '_DEL'))"
   ]
  },
  {
   "cell_type": "code",
   "execution_count": 55,
   "metadata": {
    "collapsed": false
   },
   "outputs": [],
   "source": [
    "#Need to get rid of Excel syntax =\"\" from some of the columns\n",
    "for i, col in enumerate(joinedschool.columns):\n",
    "    joinedschool[col] = joinedschool[col].map(lambda x: str(x).lstrip('=\"').rstrip('\"'))"
   ]
  },
  {
   "cell_type": "code",
   "execution_count": null,
   "metadata": {
    "collapsed": true
   },
   "outputs": [],
   "source": [
    "#If by chance any rows have NaN, replace with the ELSI standard for missing data '–'\n",
    "joinedschool = joinedschool.fillna('–')\n",
    "joinedschool = joinedschool.replace('nan', '–')"
   ]
  },
  {
   "cell_type": "code",
   "execution_count": 57,
   "metadata": {
    "collapsed": true
   },
   "outputs": [],
   "source": [
    "# Replacing Missing Data / NA / Bad Quality data with blank, later to be turned into NaN for float columns\n",
    "# CITATIOIN : http://pandas.pydata.org/pandas-docs/version/0.15.2/missing_data.html\n",
    "\n",
    "joinedschool = joinedschool.replace('\\xe2\\x80\\x93', '') # Replace \"-\" (Missing Data) with blank\n",
    "joinedschool = joinedschool.replace('\\xe2\\x80\\xa0', '') # Replace \"†\" (Not Applicable) with blank\n",
    "joinedschool = joinedschool.replace('\\xe2\\x80\\xa1', '') # Replace \"‡\" (Bad Quality) with blank"
   ]
  },
  {
   "cell_type": "code",
   "execution_count": 62,
   "metadata": {
    "collapsed": false
   },
   "outputs": [
    {
     "name": "stderr",
     "output_type": "stream",
     "text": [
      "/Users/ChaserAcer/anaconda/lib/python2.7/site-packages/pandas/core/common.py:516: FutureWarning: elementwise comparison failed; returning scalar instead, but in the future will perform elementwise comparison\n",
      "  mask = arr == x\n"
     ]
    }
   ],
   "source": [
    "joinedschool['i_agency_type_regional_education_services'] = np.where(joinedschool['Agency Type [District] 2009-10']=='4-Regional education services agency', 1, 0)\n",
    "joinedschool['i_agency_type_local_school_district'] = np.where(joinedschool['Agency Type [District] 2009-10']=='1-Local school district', 1, 0)\n",
    "joinedschool['i_lgo_PK'] = np.where(joinedschool['Lowest Grade Offered [Public School] 2009-10']=='Prekindergarten', 1, 0)\n",
    "joinedschool['i_lgo_K'] = np.where(joinedschool['Lowest Grade Offered [Public School] 2009-10']=='Kindergarten', 1, 0)\n",
    "joinedschool['Black Students [Public School] 2009-10'] = joinedschool['Black Students [Public School] 2009-10'].replace('', np.nan)\n",
    "joinedschool['Grades 9-12 Students [Public School] 2009-10'] = joinedschool['Grades 9-12 Students [Public School] 2009-10'].replace('', np.nan)\n",
    "joinedschool['Total Students [Public School] 2009-10'] = joinedschool['Total Students [Public School] 2009-10'].replace('', np.nan)\n",
    "joinedschool['Black Students [Public School] 2009-10'] = joinedschool['Black Students [Public School] 2009-10'].astype(float)\n",
    "joinedschool['Grades 9-12 Students [Public School] 2009-10'] = joinedschool['Grades 9-12 Students [Public School] 2009-10'].astype(float)\n",
    "joinedschool['Total Students [Public School] 2009-10'] = joinedschool['Total Students [Public School] 2009-10'].astype(float)\n",
    "joinedschool['r_stud_re_B'] = joinedschool['Black Students [Public School] 2009-10']/joinedschool['Total Students [Public School] 2009-10']\n",
    "joinedschool['r_stud_912'] = joinedschool['Grades 9-12 Students [Public School] 2009-10']/joinedschool['Total Students [Public School] 2009-10']\n",
    "joinedschool['r_st_TS'] = joinedschool['Pupil/Teacher Ratio [Public School] 2009-10']"
   ]
  },
  {
   "cell_type": "code",
   "execution_count": 65,
   "metadata": {
    "collapsed": true
   },
   "outputs": [],
   "source": [
    "joinedschool = joinedschool[['School Name [Public School] 2009-10', 'State Name [Public School] Latest available year', 'School ID - NCES Assigned [Public School] Latest available year', 'Agency ID - NCES Assigned [Public School] Latest available year', 'i_agency_type_regional_education_services', 'i_agency_type_local_school_district', 'i_lgo_PK', 'i_lgo_K', 'r_stud_re_B', 'r_stud_912', 'r_st_TS']]"
   ]
  },
  {
   "cell_type": "code",
   "execution_count": 66,
   "metadata": {
    "collapsed": false
   },
   "outputs": [
    {
     "data": {
      "text/html": [
       "<div>\n",
       "<table border=\"1\" class=\"dataframe\">\n",
       "  <thead>\n",
       "    <tr style=\"text-align: right;\">\n",
       "      <th></th>\n",
       "      <th>School Name [Public School] 2009-10</th>\n",
       "      <th>State Name [Public School] Latest available year</th>\n",
       "      <th>School ID - NCES Assigned [Public School] Latest available year</th>\n",
       "      <th>Agency ID - NCES Assigned [Public School] Latest available year</th>\n",
       "      <th>i_agency_type_regional_education_services</th>\n",
       "      <th>i_agency_type_local_school_district</th>\n",
       "      <th>i_lgo_PK</th>\n",
       "      <th>i_lgo_K</th>\n",
       "      <th>r_stud_re_B</th>\n",
       "      <th>r_stud_912</th>\n",
       "      <th>r_st_TS</th>\n",
       "    </tr>\n",
       "  </thead>\n",
       "  <tbody>\n",
       "    <tr>\n",
       "      <th>0</th>\n",
       "      <td>EDWARD (DUKE) ELLINGTON CONSERVATORY OF MUSIC/ART</td>\n",
       "      <td>Michigan</td>\n",
       "      <td>261200004838</td>\n",
       "      <td>2612000</td>\n",
       "      <td>0</td>\n",
       "      <td>1</td>\n",
       "      <td>0</td>\n",
       "      <td>1</td>\n",
       "      <td>0.990050</td>\n",
       "      <td>NaN</td>\n",
       "      <td>19.45</td>\n",
       "    </tr>\n",
       "    <tr>\n",
       "      <th>1</th>\n",
       "      <td>J.M. \"CHICK\" BUCKBEE JUVENILE CENTER</td>\n",
       "      <td>West Virginia</td>\n",
       "      <td>540051101159</td>\n",
       "      <td>5400511</td>\n",
       "      <td>0</td>\n",
       "      <td>0</td>\n",
       "      <td>0</td>\n",
       "      <td>0</td>\n",
       "      <td>0.000000</td>\n",
       "      <td>0.888889</td>\n",
       "      <td>4.50</td>\n",
       "    </tr>\n",
       "    <tr>\n",
       "      <th>2</th>\n",
       "      <td>JAMES H. \"TIGER\" MORTON JUVENILE CENTER</td>\n",
       "      <td>West Virginia</td>\n",
       "      <td>540051101146</td>\n",
       "      <td>5400511</td>\n",
       "      <td>0</td>\n",
       "      <td>0</td>\n",
       "      <td>0</td>\n",
       "      <td>0</td>\n",
       "      <td>0.266667</td>\n",
       "      <td>0.800000</td>\n",
       "      <td>7.50</td>\n",
       "    </tr>\n",
       "    <tr>\n",
       "      <th>3</th>\n",
       "      <td>MARY HARRIS \"MOTHER\" JONES ELEMENTARY</td>\n",
       "      <td>Maryland</td>\n",
       "      <td>240051001257</td>\n",
       "      <td>2400510</td>\n",
       "      <td>0</td>\n",
       "      <td>1</td>\n",
       "      <td>1</td>\n",
       "      <td>0</td>\n",
       "      <td>0.129076</td>\n",
       "      <td>NaN</td>\n",
       "      <td>13.83</td>\n",
       "    </tr>\n",
       "    <tr>\n",
       "      <th>4</th>\n",
       "      <td>PEMAYETV EMAHAKV \"OUR WAY SCHOOL</td>\n",
       "      <td>Florida</td>\n",
       "      <td>120066004849</td>\n",
       "      <td>1200660</td>\n",
       "      <td>0</td>\n",
       "      <td>1</td>\n",
       "      <td>0</td>\n",
       "      <td>1</td>\n",
       "      <td>0.019900</td>\n",
       "      <td>NaN</td>\n",
       "      <td>9.14</td>\n",
       "    </tr>\n",
       "  </tbody>\n",
       "</table>\n",
       "</div>"
      ],
      "text/plain": [
       "                 School Name [Public School] 2009-10 State Name [Public School] Latest available year School ID - NCES Assigned [Public School] Latest available year Agency ID - NCES Assigned [Public School] Latest available year  i_agency_type_regional_education_services  i_agency_type_local_school_district  i_lgo_PK  i_lgo_K  r_stud_re_B  r_stud_912 r_st_TS\n",
       "0  EDWARD (DUKE) ELLINGTON CONSERVATORY OF MUSIC/ART                                         Michigan                                       261200004838                                                         2612000                                                       0                                    1         0        1     0.990050         NaN   19.45\n",
       "1               J.M. \"CHICK\" BUCKBEE JUVENILE CENTER                                    West Virginia                                       540051101159                                                         5400511                                                       0                                    0         0        0     0.000000    0.888889    4.50\n",
       "2            JAMES H. \"TIGER\" MORTON JUVENILE CENTER                                    West Virginia                                       540051101146                                                         5400511                                                       0                                    0         0        0     0.266667    0.800000    7.50\n",
       "3              MARY HARRIS \"MOTHER\" JONES ELEMENTARY                                         Maryland                                       240051001257                                                         2400510                                                       0                                    1         1        0     0.129076         NaN   13.83\n",
       "4                   PEMAYETV EMAHAKV \"OUR WAY SCHOOL                                          Florida                                       120066004849                                                         1200660                                                       0                                    1         0        1     0.019900         NaN    9.14"
      ]
     },
     "execution_count": 66,
     "metadata": {},
     "output_type": "execute_result"
    }
   ],
   "source": [
    "joinedschool.head()"
   ]
  },
  {
   "cell_type": "code",
   "execution_count": 67,
   "metadata": {
    "collapsed": true
   },
   "outputs": [],
   "source": [
    "joinedschool=joinedschool.replace([np.inf, -np.inf], np.nan)"
   ]
  },
  {
   "cell_type": "code",
   "execution_count": 68,
   "metadata": {
    "collapsed": true
   },
   "outputs": [],
   "source": [
    "joinedschool.fillna(value=0,inplace=True)"
   ]
  },
  {
   "cell_type": "code",
   "execution_count": 69,
   "metadata": {
    "collapsed": false
   },
   "outputs": [
    {
     "data": {
      "text/html": [
       "<div>\n",
       "<table border=\"1\" class=\"dataframe\">\n",
       "  <thead>\n",
       "    <tr style=\"text-align: right;\">\n",
       "      <th></th>\n",
       "      <th>School Name [Public School] 2009-10</th>\n",
       "      <th>State Name [Public School] Latest available year</th>\n",
       "      <th>School ID - NCES Assigned [Public School] Latest available year</th>\n",
       "      <th>Agency ID - NCES Assigned [Public School] Latest available year</th>\n",
       "      <th>i_agency_type_regional_education_services</th>\n",
       "      <th>i_agency_type_local_school_district</th>\n",
       "      <th>i_lgo_PK</th>\n",
       "      <th>i_lgo_K</th>\n",
       "      <th>r_stud_re_B</th>\n",
       "      <th>r_stud_912</th>\n",
       "      <th>r_st_TS</th>\n",
       "    </tr>\n",
       "  </thead>\n",
       "  <tbody>\n",
       "    <tr>\n",
       "      <th>0</th>\n",
       "      <td>EDWARD (DUKE) ELLINGTON CONSERVATORY OF MUSIC/ART</td>\n",
       "      <td>Michigan</td>\n",
       "      <td>261200004838</td>\n",
       "      <td>2612000</td>\n",
       "      <td>0</td>\n",
       "      <td>1</td>\n",
       "      <td>0</td>\n",
       "      <td>1</td>\n",
       "      <td>0.990050</td>\n",
       "      <td>0.000000</td>\n",
       "      <td>19.45</td>\n",
       "    </tr>\n",
       "    <tr>\n",
       "      <th>1</th>\n",
       "      <td>J.M. \"CHICK\" BUCKBEE JUVENILE CENTER</td>\n",
       "      <td>West Virginia</td>\n",
       "      <td>540051101159</td>\n",
       "      <td>5400511</td>\n",
       "      <td>0</td>\n",
       "      <td>0</td>\n",
       "      <td>0</td>\n",
       "      <td>0</td>\n",
       "      <td>0.000000</td>\n",
       "      <td>0.888889</td>\n",
       "      <td>4.50</td>\n",
       "    </tr>\n",
       "    <tr>\n",
       "      <th>2</th>\n",
       "      <td>JAMES H. \"TIGER\" MORTON JUVENILE CENTER</td>\n",
       "      <td>West Virginia</td>\n",
       "      <td>540051101146</td>\n",
       "      <td>5400511</td>\n",
       "      <td>0</td>\n",
       "      <td>0</td>\n",
       "      <td>0</td>\n",
       "      <td>0</td>\n",
       "      <td>0.266667</td>\n",
       "      <td>0.800000</td>\n",
       "      <td>7.50</td>\n",
       "    </tr>\n",
       "    <tr>\n",
       "      <th>3</th>\n",
       "      <td>MARY HARRIS \"MOTHER\" JONES ELEMENTARY</td>\n",
       "      <td>Maryland</td>\n",
       "      <td>240051001257</td>\n",
       "      <td>2400510</td>\n",
       "      <td>0</td>\n",
       "      <td>1</td>\n",
       "      <td>1</td>\n",
       "      <td>0</td>\n",
       "      <td>0.129076</td>\n",
       "      <td>0.000000</td>\n",
       "      <td>13.83</td>\n",
       "    </tr>\n",
       "    <tr>\n",
       "      <th>4</th>\n",
       "      <td>PEMAYETV EMAHAKV \"OUR WAY SCHOOL</td>\n",
       "      <td>Florida</td>\n",
       "      <td>120066004849</td>\n",
       "      <td>1200660</td>\n",
       "      <td>0</td>\n",
       "      <td>1</td>\n",
       "      <td>0</td>\n",
       "      <td>1</td>\n",
       "      <td>0.019900</td>\n",
       "      <td>0.000000</td>\n",
       "      <td>9.14</td>\n",
       "    </tr>\n",
       "  </tbody>\n",
       "</table>\n",
       "</div>"
      ],
      "text/plain": [
       "                 School Name [Public School] 2009-10 State Name [Public School] Latest available year School ID - NCES Assigned [Public School] Latest available year Agency ID - NCES Assigned [Public School] Latest available year  i_agency_type_regional_education_services  i_agency_type_local_school_district  i_lgo_PK  i_lgo_K  r_stud_re_B  r_stud_912 r_st_TS\n",
       "0  EDWARD (DUKE) ELLINGTON CONSERVATORY OF MUSIC/ART                                         Michigan                                       261200004838                                                         2612000                                                       0                                    1         0        1     0.990050    0.000000   19.45\n",
       "1               J.M. \"CHICK\" BUCKBEE JUVENILE CENTER                                    West Virginia                                       540051101159                                                         5400511                                                       0                                    0         0        0     0.000000    0.888889    4.50\n",
       "2            JAMES H. \"TIGER\" MORTON JUVENILE CENTER                                    West Virginia                                       540051101146                                                         5400511                                                       0                                    0         0        0     0.266667    0.800000    7.50\n",
       "3              MARY HARRIS \"MOTHER\" JONES ELEMENTARY                                         Maryland                                       240051001257                                                         2400510                                                       0                                    1         1        0     0.129076    0.000000   13.83\n",
       "4                   PEMAYETV EMAHAKV \"OUR WAY SCHOOL                                          Florida                                       120066004849                                                         1200660                                                       0                                    1         0        1     0.019900    0.000000    9.14"
      ]
     },
     "execution_count": 69,
     "metadata": {},
     "output_type": "execute_result"
    }
   ],
   "source": [
    "joinedschool.head()"
   ]
  },
  {
   "cell_type": "code",
   "execution_count": 71,
   "metadata": {
    "collapsed": false
   },
   "outputs": [],
   "source": [
    "joinedschool.to_csv(\"data/finaldata/tableauschools.csv\")"
   ]
  },
  {
   "cell_type": "markdown",
   "metadata": {},
   "source": [
    "This is the full list of all column names in the schools dataframe."
   ]
  },
  {
   "cell_type": "code",
   "execution_count": 72,
   "metadata": {
    "collapsed": false
   },
   "outputs": [
    {
     "name": "stdout",
     "output_type": "stream",
     "text": [
      "School Name [Public School] 2009-10\n",
      "State Name [Public School] Latest available year\n",
      "School ID - NCES Assigned [Public School] Latest available year\n",
      "Agency ID - NCES Assigned [Public School] Latest available year\n",
      "i_agency_type_regional_education_services\n",
      "i_agency_type_local_school_district\n",
      "i_lgo_PK\n",
      "i_lgo_K\n",
      "r_stud_re_B\n",
      "r_stud_912\n",
      "r_st_TS\n"
     ]
    }
   ],
   "source": [
    "for col in joinedschool.columns:\n",
    "    print col"
   ]
  },
  {
   "cell_type": "code",
   "execution_count": null,
   "metadata": {
    "collapsed": true
   },
   "outputs": [],
   "source": []
  }
 ],
 "metadata": {
  "kernelspec": {
   "display_name": "Python 2",
   "language": "python",
   "name": "python2"
  },
  "language_info": {
   "codemirror_mode": {
    "name": "ipython",
    "version": 2
   },
   "file_extension": ".py",
   "mimetype": "text/x-python",
   "name": "python",
   "nbconvert_exporter": "python",
   "pygments_lexer": "ipython2",
   "version": "2.7.10"
  }
 },
 "nbformat": 4,
 "nbformat_minor": 0
}
