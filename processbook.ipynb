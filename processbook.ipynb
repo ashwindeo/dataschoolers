{
 "cells": [
  {
   "cell_type": "markdown",
   "metadata": {},
   "source": [
    "# Data Cleaning - Schools\n",
    "\n",
    "This is the process book that covers how we loaded and cleaned the schools data for the year 2009-2010.  We use the schools data in the visualization.\n",
    "\n",
    "We did not use the schools data in our models because graduation rate data is not available nationwide at the school level.  We found invidual states or cities that made graduation rate data publically available, yet it would have been too time consuming to download from many different places."
   ]
  },
  {
   "cell_type": "markdown",
   "metadata": {},
   "source": [
    "Start with the standard imports we have used for every notebook in this class."
   ]
  },
  {
   "cell_type": "code",
   "execution_count": 45,
   "metadata": {
    "collapsed": true
   },
   "outputs": [],
   "source": [
    "%matplotlib inline\n",
    "import numpy as np\n",
    "import scipy as sp\n",
    "import matplotlib as mpl\n",
    "import matplotlib.cm as cm\n",
    "import matplotlib.pyplot as plt\n",
    "import pandas as pd\n",
    "pd.set_option('display.width', 500)\n",
    "pd.set_option('display.max_columns', 100)\n",
    "pd.set_option('display.notebook_repr_html', True)\n",
    "import seaborn as sns\n",
    "sns.set_style(\"whitegrid\")\n",
    "sns.set_context(\"poster\")"
   ]
  },
  {
   "cell_type": "markdown",
   "metadata": {},
   "source": [
    "Each of the datasheets downloaded from ELSI had download metadata on the top of them and total and key information on the bottom of them that were not data rows.  This metadata, total, and key information was manually deleted before import.  Some of the files had =\"0\" instead of 0 in the cells.  This was found/replaced before import using the sed -i '' 's/=\"0\"/0/g' *.csv command from the terminal."
   ]
  },
  {
   "cell_type": "code",
   "execution_count": 46,
   "metadata": {
    "collapsed": false
   },
   "outputs": [],
   "source": [
    "#CITATION: This is the data from National Center for Education Statistics on Schools\n",
    "#Schools for all 50 states and Washington, D.C.\n",
    "#http://nces.ed.gov/ccd/elsi/\n",
    "#ELSI Root Data Source: U.S. Department of Education National Center for Education Statistics Common Core of Data (CCD) \"Public Elementary/Secondary School Universe Survey\" 2012-13 v.1a  2013-14 v.1a.\n",
    "#KEY:\n",
    "#† indicates that the data are not applicable.\n",
    "#– indicates that the data are missing.\n",
    "#‡ indicates that the data do not meet NCES data quality standards.\n",
    "\n",
    "schoolinformation = pd.read_csv(\"data/rawdata/schools/2009-2010 SCHOOL Information Tab.csv\", dtype=np.str)\n",
    "schoolcharacteristicsa = pd.read_csv(\"data/rawdata/schools/2009-2010 SCHOOL CharacteristicsA Tab.csv\", dtype=np.str)\n",
    "schoolcharacteristicsb = pd.read_csv(\"data/rawdata/schools/2009-2010 SCHOOL CharacteristicsB Tab.csv\", dtype=np.str)\n",
    "schoolenrollment = pd.read_csv(\"data/rawdata/schools/2009-2010 SCHOOL Enrollments Tab.csv\", dtype=np.str)\n",
    "schoolenrollmentdetails = pd.read_csv(\"data/rawdata/schools/2009-2010 SCHOOL Enrollment Details Tab.csv\", dtype=np.str)\n",
    "#schoolenrollmentK3 = pd.read_csv(\"tempdata/2013-2014 SCHOOL Enrollment by Grade, Race-Ethnicity, and Gender Tab PreK-3.csv\", dtype=np.str)\n",
    "#schoolenrollment48 = pd.read_csv(\"tempdata/2013-2014 SCHOOL Enrollment by Grade, Race-Ethnicity and Gender Tab 4-8.csv\", dtype=np.str)\n",
    "#schoolenrollment912 = pd.read_csv(\"tempdata/2013-2014 SCHOOL Enrollment by Grade, Race-Ethnicity and Gender Tab 9-Ungraded.csv\", dtype=np.str)\n",
    "schoolteacherstaff = pd.read_csv(\"data/rawdata/schools/2009-2010 SCHOOL Teacher and Staff Tab.csv\", dtype=np.str)"
   ]
  },
  {
   "cell_type": "markdown",
   "metadata": {},
   "source": [
    "Check the lengths of the datasets to see if we have a row for every school."
   ]
  },
  {
   "cell_type": "code",
   "execution_count": 47,
   "metadata": {
    "collapsed": false
   },
   "outputs": [
    {
     "name": "stdout",
     "output_type": "stream",
     "text": [
      "106634\n",
      "99804\n",
      "99804\n",
      "99804\n",
      "99804\n",
      "99804\n"
     ]
    }
   ],
   "source": [
    "print len(schoolinformation)\n",
    "print len(schoolcharacteristicsa)\n",
    "print len(schoolcharacteristicsb)\n",
    "print len(schoolenrollment)\n",
    "print len(schoolenrollmentdetails)\n",
    "#print len(schoolenrollmentK3)\n",
    "#print len(schoolenrollment48)\n",
    "#print len(schoolenrollment912)\n",
    "print len(schoolteacherstaff)"
   ]
  },
  {
   "cell_type": "markdown",
   "metadata": {},
   "source": [
    "Drop all of the duplicate columns."
   ]
  },
  {
   "cell_type": "code",
   "execution_count": 49,
   "metadata": {
    "collapsed": false
   },
   "outputs": [],
   "source": [
    "schoolcharacteristicsa = schoolcharacteristicsa.drop(schoolcharacteristicsa.columns[[0, 1, 20]], 1)\n",
    "schoolcharacteristicsb = schoolcharacteristicsb.drop(schoolcharacteristicsb.columns[[0, 1]], 1)\n",
    "schoolenrollment = schoolenrollment.drop(schoolenrollment.columns[[0, 1]], 1)\n",
    "schoolenrollmentdetails = schoolenrollmentdetails.drop(schoolenrollmentdetails.columns[[0, 1]], 1)\n",
    "#schoolenrollmentK3 = schoolenrollmentK3.drop(schoolenrollmentK3.columns[[0, 1]], 1)\n",
    "#schoolenrollment48 = schoolenrollment48.drop(schoolenrollment48.columns[[0, 1]], 1)\n",
    "#schoolenrollment912 = schoolenrollment912.drop(schoolenrollment912.columns[[0, 1, 72]], 1)"
   ]
  },
  {
   "cell_type": "code",
   "execution_count": 50,
   "metadata": {
    "collapsed": false
   },
   "outputs": [
    {
     "data": {
      "text/html": [
       "<div>\n",
       "<table border=\"1\" class=\"dataframe\">\n",
       "  <thead>\n",
       "    <tr style=\"text-align: right;\">\n",
       "      <th></th>\n",
       "      <th>﻿School Name</th>\n",
       "      <th>State Name [Public School] Latest available year</th>\n",
       "      <th>State Name [Public School] 2009-10</th>\n",
       "      <th>State Abbr [Public School] Latest available year</th>\n",
       "      <th>School Name [Public School] 2009-10</th>\n",
       "      <th>School ID - NCES Assigned [Public School] Latest available year</th>\n",
       "      <th>Agency Name [Public School] 2009-10</th>\n",
       "      <th>Agency ID - NCES Assigned [Public School] Latest available year</th>\n",
       "      <th>County Name [Public School] 2009-10</th>\n",
       "      <th>County Number [Public School] 2009-10</th>\n",
       "      <th>Race/Ethnicity Category [Public School] 2009-10</th>\n",
       "      <th>ANSI/FIPS State Code [Public School] Latest available year</th>\n",
       "      <th>Years School Reported Data [Public School] Latest available year</th>\n",
       "      <th>Years School Did Not Report Data [Public School] Latest available year</th>\n",
       "      <th>Location Address [Public School] 2013-14</th>\n",
       "      <th>Location City [Public School] 2013-14</th>\n",
       "      <th>Location State Abbr [Public School] 2013-14</th>\n",
       "      <th>Location ZIP [Public School] 2013-14</th>\n",
       "      <th>Location ZIP4 [Public School] 2013-14</th>\n",
       "      <th>Mailing Address [Public School] 2013-14</th>\n",
       "      <th>Mailing City [Public School] 2013-14</th>\n",
       "      <th>Mailing State Abbr [Public School] 2013-14</th>\n",
       "      <th>Mailing ZIP [Public School] 2013-14</th>\n",
       "      <th>Mailing ZIP4 [Public School] 2013-14</th>\n",
       "      <th>Phone Number [Public School] 2013-14</th>\n",
       "    </tr>\n",
       "  </thead>\n",
       "  <tbody>\n",
       "    <tr>\n",
       "      <th>0</th>\n",
       "      <td>EDWARD \"DUKE\" ELLINGTON @ BECKHAM</td>\n",
       "      <td>Michigan</td>\n",
       "      <td>Michigan</td>\n",
       "      <td>MI</td>\n",
       "      <td>EDWARD (DUKE) ELLINGTON CONSERVATORY OF MUSIC/ART</td>\n",
       "      <td>261200004838</td>\n",
       "      <td>DETROIT CITY SCHOOL DISTRICT</td>\n",
       "      <td>2612000</td>\n",
       "      <td>WAYNE COUNTY</td>\n",
       "      <td>26163</td>\n",
       "      <td>Reported 5 categories</td>\n",
       "      <td>26</td>\n",
       "      <td>1986-2013</td>\n",
       "      <td>NaN</td>\n",
       "      <td>9860 PARK DR</td>\n",
       "      <td>DETROIT</td>\n",
       "      <td>MI</td>\n",
       "      <td>48213</td>\n",
       "      <td>7102</td>\n",
       "      <td>9860 PARK DRIVE</td>\n",
       "      <td>DETROIT</td>\n",
       "      <td>MI</td>\n",
       "      <td>48213</td>\n",
       "      <td>7102</td>\n",
       "      <td>3138528500</td>\n",
       "    </tr>\n",
       "    <tr>\n",
       "      <th>1</th>\n",
       "      <td>J.M. \"CHICK\" BUCKBEE JUVENILE CENTER</td>\n",
       "      <td>West Virginia</td>\n",
       "      <td>West Virginia</td>\n",
       "      <td>WV</td>\n",
       "      <td>J.M. \"CHICK\" BUCKBEE JUVENILE CENTER</td>\n",
       "      <td>540051101159</td>\n",
       "      <td>INSTITUTIONAL EDUCATIONAL PROGRAMS</td>\n",
       "      <td>5400511</td>\n",
       "      <td>HAMPSHIRE COUNTY</td>\n",
       "      <td>54027</td>\n",
       "      <td>Reported 7 categories</td>\n",
       "      <td>54</td>\n",
       "      <td>2003-2013</td>\n",
       "      <td>1986-2002</td>\n",
       "      <td>1 JERRY LN</td>\n",
       "      <td>AUGUSTA</td>\n",
       "      <td>WV</td>\n",
       "      <td>26704</td>\n",
       "      <td>†</td>\n",
       "      <td>#1 JERRY LANE</td>\n",
       "      <td>AUGUSTA</td>\n",
       "      <td>WV</td>\n",
       "      <td>26704</td>\n",
       "      <td>†</td>\n",
       "      <td>3044961369</td>\n",
       "    </tr>\n",
       "    <tr>\n",
       "      <th>2</th>\n",
       "      <td>JAMES H. \"TIGER\" MORTON JUVENILE CENTER</td>\n",
       "      <td>West Virginia</td>\n",
       "      <td>West Virginia</td>\n",
       "      <td>WV</td>\n",
       "      <td>JAMES H. \"TIGER\" MORTON JUVENILE CENTER</td>\n",
       "      <td>540051101146</td>\n",
       "      <td>INSTITUTIONAL EDUCATIONAL PROGRAMS</td>\n",
       "      <td>5400511</td>\n",
       "      <td>KANAWHA COUNTY</td>\n",
       "      <td>54039</td>\n",
       "      <td>Reported 7 categories</td>\n",
       "      <td>54</td>\n",
       "      <td>2003-2013</td>\n",
       "      <td>1986-2002</td>\n",
       "      <td>60 MANFRED HOLLAND WAY</td>\n",
       "      <td>DUNBAR</td>\n",
       "      <td>WV</td>\n",
       "      <td>25064</td>\n",
       "      <td>†</td>\n",
       "      <td>60 MANFRED HOLLAND WAY</td>\n",
       "      <td>DUNBAR</td>\n",
       "      <td>WV</td>\n",
       "      <td>25064</td>\n",
       "      <td>†</td>\n",
       "      <td>3047663502</td>\n",
       "    </tr>\n",
       "    <tr>\n",
       "      <th>3</th>\n",
       "      <td>MARY HARRIS \"MOTHER\" JONES ELEMENTARY</td>\n",
       "      <td>Maryland</td>\n",
       "      <td>Maryland</td>\n",
       "      <td>MD</td>\n",
       "      <td>MARY HARRIS \"MOTHER\" JONES ELEMENTARY</td>\n",
       "      <td>240051001257</td>\n",
       "      <td>PRINCE GEORGE'S COUNTY PUBLIC SCHOOLS</td>\n",
       "      <td>2400510</td>\n",
       "      <td>PRINCE GEORGE'S COUNTY</td>\n",
       "      <td>24033</td>\n",
       "      <td>Reported 5 categories</td>\n",
       "      <td>24</td>\n",
       "      <td>2002-2013</td>\n",
       "      <td>1986-2001</td>\n",
       "      <td>2405 TECUMSEH ST</td>\n",
       "      <td>ADELPHI</td>\n",
       "      <td>MD</td>\n",
       "      <td>20783</td>\n",
       "      <td>1658</td>\n",
       "      <td>2405 TECUMSEH ST</td>\n",
       "      <td>ADELPHI</td>\n",
       "      <td>MD</td>\n",
       "      <td>20783</td>\n",
       "      <td>1658</td>\n",
       "      <td>3014087900</td>\n",
       "    </tr>\n",
       "    <tr>\n",
       "      <th>4</th>\n",
       "      <td>PEMAYETV EMAHAKV CHARTER \"OUR WAY SCHOOL\"</td>\n",
       "      <td>Florida</td>\n",
       "      <td>Florida</td>\n",
       "      <td>FL</td>\n",
       "      <td>PEMAYETV EMAHAKV \"OUR WAY SCHOOL\"</td>\n",
       "      <td>120066004849</td>\n",
       "      <td>GLADES</td>\n",
       "      <td>1200660</td>\n",
       "      <td>GLADES COUNTY</td>\n",
       "      <td>12043</td>\n",
       "      <td>Reported 5 categories</td>\n",
       "      <td>12</td>\n",
       "      <td>2006-2013</td>\n",
       "      <td>1986-2005</td>\n",
       "      <td>100 EAST HARNEY POND RD NE</td>\n",
       "      <td>OKEECHOBEE</td>\n",
       "      <td>FL</td>\n",
       "      <td>34974</td>\n",
       "      <td>2867</td>\n",
       "      <td>100 E HARNEY POND RD NE</td>\n",
       "      <td>OKEECHOBEE</td>\n",
       "      <td>FL</td>\n",
       "      <td>34974</td>\n",
       "      <td>2867</td>\n",
       "      <td>8634672501</td>\n",
       "    </tr>\n",
       "  </tbody>\n",
       "</table>\n",
       "</div>"
      ],
      "text/plain": [
       "                                ﻿School Name State Name [Public School] Latest available year State Name [Public School] 2009-10 State Abbr [Public School] Latest available year                School Name [Public School] 2009-10 School ID - NCES Assigned [Public School] Latest available year    Agency Name [Public School] 2009-10 Agency ID - NCES Assigned [Public School] Latest available year County Name [Public School] 2009-10 County Number [Public School] 2009-10  \\\n",
       "0          EDWARD \"DUKE\" ELLINGTON @ BECKHAM                                         Michigan                           Michigan                                              MI   EDWARD (DUKE) ELLINGTON CONSERVATORY OF MUSIC/ART                                       261200004838                        DETROIT CITY SCHOOL DISTRICT                                            2612000                                     WAYNE COUNTY                                 26163   \n",
       "1       J.M. \"CHICK\" BUCKBEE JUVENILE CENTER                                    West Virginia                      West Virginia                                              WV                J.M. \"CHICK\" BUCKBEE JUVENILE CENTER                                       540051101159                  INSTITUTIONAL EDUCATIONAL PROGRAMS                                            5400511                                 HAMPSHIRE COUNTY                                 54027   \n",
       "2    JAMES H. \"TIGER\" MORTON JUVENILE CENTER                                    West Virginia                      West Virginia                                              WV             JAMES H. \"TIGER\" MORTON JUVENILE CENTER                                       540051101146                  INSTITUTIONAL EDUCATIONAL PROGRAMS                                            5400511                                   KANAWHA COUNTY                                 54039   \n",
       "3      MARY HARRIS \"MOTHER\" JONES ELEMENTARY                                         Maryland                           Maryland                                              MD               MARY HARRIS \"MOTHER\" JONES ELEMENTARY                                       240051001257               PRINCE GEORGE'S COUNTY PUBLIC SCHOOLS                                            2400510                           PRINCE GEORGE'S COUNTY                                 24033   \n",
       "4  PEMAYETV EMAHAKV CHARTER \"OUR WAY SCHOOL\"                                          Florida                            Florida                                              FL                   PEMAYETV EMAHAKV \"OUR WAY SCHOOL\"                                       120066004849                                              GLADES                                            1200660                                    GLADES COUNTY                                 12043   \n",
       "\n",
       "  Race/Ethnicity Category [Public School] 2009-10 ANSI/FIPS State Code [Public School] Latest available year Years School Reported Data [Public School] Latest available year Years School Did Not Report Data [Public School] Latest available year Location Address [Public School] 2013-14 Location City [Public School] 2013-14 Location State Abbr [Public School] 2013-14 Location ZIP [Public School] 2013-14 Location ZIP4 [Public School] 2013-14 Mailing Address [Public School] 2013-14  \\\n",
       "0                           Reported 5 categories                                                 26                                                  1986-2013                                                              NaN                                                 9860 PARK DR                               DETROIT                                         MI                                 48213                                  7102                         9860 PARK DRIVE   \n",
       "1                           Reported 7 categories                                                 54                                                  2003-2013                                                        1986-2002                                                   1 JERRY LN                               AUGUSTA                                         WV                                 26704                                     †                           #1 JERRY LANE   \n",
       "2                           Reported 7 categories                                                 54                                                  2003-2013                                                        1986-2002                                       60 MANFRED HOLLAND WAY                                DUNBAR                                         WV                                 25064                                     †                  60 MANFRED HOLLAND WAY   \n",
       "3                           Reported 5 categories                                                 24                                                  2002-2013                                                        1986-2001                                             2405 TECUMSEH ST                               ADELPHI                                         MD                                 20783                                  1658                        2405 TECUMSEH ST   \n",
       "4                           Reported 5 categories                                                 12                                                  2006-2013                                                        1986-2005                                   100 EAST HARNEY POND RD NE                            OKEECHOBEE                                         FL                                 34974                                  2867                 100 E HARNEY POND RD NE   \n",
       "\n",
       "  Mailing City [Public School] 2013-14 Mailing State Abbr [Public School] 2013-14 Mailing ZIP [Public School] 2013-14 Mailing ZIP4 [Public School] 2013-14 Phone Number [Public School] 2013-14  \n",
       "0                              DETROIT                                        MI                                48213                                 7102                           3138528500  \n",
       "1                              AUGUSTA                                        WV                                26704                                    †                           3044961369  \n",
       "2                               DUNBAR                                        WV                                25064                                    †                           3047663502  \n",
       "3                              ADELPHI                                        MD                                20783                                 1658                           3014087900  \n",
       "4                           OKEECHOBEE                                        FL                                34974                                 2867                           8634672501  "
      ]
     },
     "execution_count": 50,
     "metadata": {},
     "output_type": "execute_result"
    }
   ],
   "source": [
    "schoolinformation.head()"
   ]
  },
  {
   "cell_type": "markdown",
   "metadata": {},
   "source": [
    "Join all of the school datasets."
   ]
  },
  {
   "cell_type": "code",
   "execution_count": 51,
   "metadata": {
    "collapsed": false
   },
   "outputs": [],
   "source": [
    "joinedschool = schoolteacherstaff.join([schoolcharacteristicsa, schoolcharacteristicsb, schoolenrollment, schoolenrollmentdetails])"
   ]
  },
  {
   "cell_type": "code",
   "execution_count": 52,
   "metadata": {
    "collapsed": false
   },
   "outputs": [],
   "source": [
    "joinedschool = schoolinformation.merge(joinedschool, 'left', 'School ID - NCES Assigned [Public School] Latest available year', suffixes=('', '_DEL'))"
   ]
  },
  {
   "cell_type": "code",
   "execution_count": 55,
   "metadata": {
    "collapsed": false
   },
   "outputs": [],
   "source": [
    "#Need to get rid of Excel syntax =\"\" from some of the columns\n",
    "for i, col in enumerate(joinedschool.columns):\n",
    "    joinedschool[col] = joinedschool[col].map(lambda x: str(x).lstrip('=\"').rstrip('\"'))"
   ]
  },
  {
   "cell_type": "code",
   "execution_count": null,
   "metadata": {
    "collapsed": true
   },
   "outputs": [],
   "source": [
    "#If by chance any rows have NaN, replace with the ELSI standard for missing data '–'\n",
    "joinedschool = joinedschool.fillna('–')\n",
    "joinedschool = joinedschool.replace('nan', '–')"
   ]
  },
  {
   "cell_type": "code",
   "execution_count": 57,
   "metadata": {
    "collapsed": true
   },
   "outputs": [],
   "source": [
    "# Replacing Missing Data / NA / Bad Quality data with blank, later to be turned into NaN for float columns\n",
    "# CITATIOIN : http://pandas.pydata.org/pandas-docs/version/0.15.2/missing_data.html\n",
    "\n",
    "joinedschool = joinedschool.replace('\\xe2\\x80\\x93', '') # Replace \"-\" (Missing Data) with blank\n",
    "joinedschool = joinedschool.replace('\\xe2\\x80\\xa0', '') # Replace \"†\" (Not Applicable) with blank\n",
    "joinedschool = joinedschool.replace('\\xe2\\x80\\xa1', '') # Replace \"‡\" (Bad Quality) with blank"
   ]
  },
  {
   "cell_type": "code",
   "execution_count": null,
   "metadata": {
    "collapsed": true
   },
   "outputs": [],
   "source": []
  },
  {
   "cell_type": "code",
   "execution_count": null,
   "metadata": {
    "collapsed": true
   },
   "outputs": [],
   "source": [
    "joinedschool = joinedschool[['School Name [Public School] 2009-10', 'State Name [Public School] Latest available year', 'School ID - NCES Assigned [Public School] Latest available year', 'Agency ID - NCES Assigned [Public School] Latest available year']]"
   ]
  },
  {
   "cell_type": "code",
   "execution_count": null,
   "metadata": {
    "collapsed": true
   },
   "outputs": [],
   "source": []
  },
  {
   "cell_type": "code",
   "execution_count": null,
   "metadata": {
    "collapsed": true
   },
   "outputs": [],
   "source": [
    "countcolumns = []\n",
    "\n",
    "for col in countcolumns:\n",
    "    joinedschool[col] = joinedschool[col].replace('', np.nan)\n",
    "    joinedschool[col] = joinedschool[col].astype(float)"
   ]
  },
  {
   "cell_type": "code",
   "execution_count": null,
   "metadata": {
    "collapsed": true
   },
   "outputs": [],
   "source": [
    "joinedschool=joinedschool.replace([np.inf, -np.inf], np.nan)"
   ]
  },
  {
   "cell_type": "code",
   "execution_count": null,
   "metadata": {
    "collapsed": true
   },
   "outputs": [],
   "source": [
    "joinedschool.fillna(value=0,inplace=True)"
   ]
  },
  {
   "cell_type": "code",
   "execution_count": null,
   "metadata": {
    "collapsed": true
   },
   "outputs": [],
   "source": [
    "joinedschool.head()"
   ]
  },
  {
   "cell_type": "code",
   "execution_count": 52,
   "metadata": {
    "collapsed": false
   },
   "outputs": [],
   "source": [
    "joinedschool.to_csv(\"data/finaldata/schools.csv\")"
   ]
  },
  {
   "cell_type": "markdown",
   "metadata": {},
   "source": [
    "This is the full list of all column names in the schools dataframe."
   ]
  },
  {
   "cell_type": "code",
   "execution_count": 58,
   "metadata": {
    "collapsed": false
   },
   "outputs": [
    {
     "name": "stdout",
     "output_type": "stream",
     "text": [
      "﻿School Name\n",
      "State Name [Public School] Latest available year\n",
      "State Name [Public School] 2009-10\n",
      "State Abbr [Public School] Latest available year\n",
      "School Name [Public School] 2009-10\n",
      "School ID - NCES Assigned [Public School] Latest available year\n",
      "Agency Name [Public School] 2009-10\n",
      "Agency ID - NCES Assigned [Public School] Latest available year\n",
      "County Name [Public School] 2009-10\n",
      "County Number [Public School] 2009-10\n",
      "Race/Ethnicity Category [Public School] 2009-10\n",
      "ANSI/FIPS State Code [Public School] Latest available year\n",
      "Years School Reported Data [Public School] Latest available year\n",
      "Years School Did Not Report Data [Public School] Latest available year\n",
      "Location Address [Public School] 2013-14\n",
      "Location City [Public School] 2013-14\n",
      "Location State Abbr [Public School] 2013-14\n",
      "Location ZIP [Public School] 2013-14\n",
      "Location ZIP4 [Public School] 2013-14\n",
      "Mailing Address [Public School] 2013-14\n",
      "Mailing City [Public School] 2013-14\n",
      "Mailing State Abbr [Public School] 2013-14\n",
      "Mailing ZIP [Public School] 2013-14\n",
      "Mailing ZIP4 [Public School] 2013-14\n",
      "Phone Number [Public School] 2013-14\n",
      "﻿School Name_DEL\n",
      "State Name [Public School] Latest available year_DEL\n",
      "Full-Time Equivalent (FTE) Teachers [Public School] 2009-10\n",
      "Pupil/Teacher Ratio [Public School] 2009-10\n",
      "School Type [Public School] 2009-10\n",
      "Agency Type [District] 2009-10\n",
      "Operational Status [Public School] 2009-10\n",
      "Charter School [Public School] 2009-10\n",
      "Magnet School [Public School] 2009-10\n",
      "Shared Time School [Public School] 2009-10\n",
      "Urban-centric Locale [Public School] 2009-10\n",
      "School-wide Title I [Public School] 2009-10\n",
      "Title I Eligible School [Public School] 2009-10\n",
      "CBSA Name [District] 2009-10\n",
      "CBSA ID [District] 2009-10\n",
      "CSA Name [District] 2009-10\n",
      "CSA ID [District] 2009-10\n",
      "Latitude [Public School] 2009-10\n",
      "Longitude [Public School] 2009-10\n",
      "State School ID [Public School] 2009-10\n",
      "State Agency ID [Public School] 2009-10\n",
      "Congressional Code [Public School] 2009-10\n",
      "School Level Code [Public School] 2009-10\n",
      "Lowest Grade Offered [Public School] 2009-10\n",
      "Highest Grade Offered [Public School] 2009-10\n",
      "Total Students [Public School] 2009-10\n",
      "Free Lunch Eligible [Public School] 2009-10\n",
      "Reduced-price Lunch Eligible Students [Public School] 2009-10\n",
      "Total Free and Reduced Lunch Students [Public School] 2009-10\n",
      "Prekindergarten and Kindergarten Students [Public School] 2009-10\n",
      "Grades 1-8 Students [Public School] 2009-10\n",
      "Grades 9-12 Students [Public School] 2009-10\n",
      "Prekindergarten Students [Public School] 2009-10\n",
      "Kindergarten Students [Public School] 2009-10\n",
      "Grade 1 Students [Public School] 2009-10\n",
      "Grade 2 Students [Public School] 2009-10\n",
      "Grade 3 Students [Public School] 2009-10\n",
      "Grade 4 Students [Public School] 2009-10\n",
      "Grade 5 Students [Public School] 2009-10\n",
      "Grade 6 Students [Public School] 2009-10\n",
      "Grade 7 Students [Public School] 2009-10\n",
      "Grade 8 Students [Public School] 2009-10\n",
      "Grade 9 Students [Public School] 2009-10\n",
      "Grade 10 Students [Public School] 2009-10\n",
      "Grade 11 Students [Public School] 2009-10\n",
      "Grade 12 Students [Public School] 2009-10\n",
      "Ungraded Students [Public School] 2009-10\n",
      "Male Students [Public School] 2009-10\n",
      "Female Students [Public School] 2009-10\n",
      "American Indian/Alaska Native Students [Public School] 2009-10\n",
      "Asian or Asian/Pacific Islander Students [Public School] 2009-10\n",
      "Hispanic Students [Public School] 2009-10\n",
      "Black Students [Public School] 2009-10\n",
      "White Students [Public School] 2009-10\n",
      "Hawaiian Nat./Pacific Isl. Students [Public School] 2009-10\n",
      "Two or More Races Students [Public School] 2009-10\n",
      "Total Race/Ethnicity [Public School] 2009-10\n",
      "American Indian/Alaska Native - male [Public School] 2009-10\n",
      "American Indian/Alaska Native - female [Public School] 2009-10\n",
      "Asian or Asian/Pacific Islander - male [Public School] 2009-10\n",
      "Asian or Asian/Pacific Islander - female [Public School] 2009-10\n",
      "Hispanic - male [Public School] 2009-10\n",
      "Hispanic - female [Public School] 2009-10\n",
      "Black - male [Public School] 2009-10\n",
      "Black - female [Public School] 2009-10\n",
      "White - male [Public School] 2009-10\n",
      "White - female [Public School] 2009-10\n",
      "Hawaiian Nat./Pacific Isl. - male [Public School] 2009-10\n",
      "Hawaiian Nat./Pacific Isl. - female [Public School] 2009-10\n",
      "Two or More Races - male [Public School] 2009-10\n",
      "Two or More Races - female [Public School] 2009-10\n",
      "Prekindergarten Students - male [Public School] 2009-10\n",
      "Prekindergarten Students - female [Public School] 2009-10\n",
      "Kindergarten Students - male [Public School] 2009-10\n",
      "Kindergarten Students - female [Public School] 2009-10\n",
      "Grade 1 Students - male [Public School] 2009-10\n",
      "Grade 1 Students - female [Public School] 2009-10\n",
      "Grade 2 Students - male [Public School] 2009-10\n",
      "Grade 2 Students - female [Public School] 2009-10\n",
      "Grade 3 Students - male [Public School] 2009-10\n",
      "Grade 3 Students - female [Public School] 2009-10\n",
      "Grade 4 Students - male [Public School] 2009-10\n",
      "Grade 4 Students - female [Public School] 2009-10\n",
      "Grade 5 Students - male [Public School] 2009-10\n",
      "Grade 5 Students - female [Public School] 2009-10\n",
      "Grade 6 Students - male [Public School] 2009-10\n",
      "Grade 6 Students - female [Public School] 2009-10\n",
      "Grade 7 Students - male [Public School] 2009-10\n",
      "Grade 7 Students - female [Public School] 2009-10\n",
      "Grade 8 Students - male [Public School] 2009-10\n",
      "Grade 8 Students - female [Public School] 2009-10\n",
      "Grade 9 Students - male [Public School] 2009-10\n",
      "Grade 9 Students - female [Public School] 2009-10\n",
      "Grade 10 Students - male [Public School] 2009-10\n",
      "Grade 10 Students - female [Public School] 2009-10\n",
      "Grade 11 Students - male [Public School] 2009-10\n",
      "Grade 11 Students - female [Public School] 2009-10\n",
      "Grade 12 Students - male [Public School] 2009-10\n",
      "Grade 12 Students - female [Public School] 2009-10\n",
      "Ungraded Students - male [Public School] 2009-10\n",
      "Ungraded Students - female [Public School] 2009-10\n"
     ]
    }
   ],
   "source": [
    "for col in joinedschool.columns:\n",
    "    print col"
   ]
  },
  {
   "cell_type": "code",
   "execution_count": 55,
   "metadata": {
    "collapsed": false
   },
   "outputs": [
    {
     "data": {
      "text/plain": [
       "1-Regular school              72586\n",
       "–                             19177\n",
       "4-Alternative/other school     4344\n",
       "2-Special education school     1743\n",
       "3-Vocational school            1224\n",
       "dtype: int64"
      ]
     },
     "execution_count": 55,
     "metadata": {},
     "output_type": "execute_result"
    }
   ],
   "source": [
    "schoolsdf['School Type [Public School] 2013-14'].value_counts()"
   ]
  },
  {
   "cell_type": "code",
   "execution_count": null,
   "metadata": {
    "collapsed": true
   },
   "outputs": [],
   "source": []
  }
 ],
 "metadata": {
  "kernelspec": {
   "display_name": "Python 2",
   "language": "python",
   "name": "python2"
  },
  "language_info": {
   "codemirror_mode": {
    "name": "ipython",
    "version": 2
   },
   "file_extension": ".py",
   "mimetype": "text/x-python",
   "name": "python",
   "nbconvert_exporter": "python",
   "pygments_lexer": "ipython2",
   "version": "2.7.10"
  }
 },
 "nbformat": 4,
 "nbformat_minor": 0
}
